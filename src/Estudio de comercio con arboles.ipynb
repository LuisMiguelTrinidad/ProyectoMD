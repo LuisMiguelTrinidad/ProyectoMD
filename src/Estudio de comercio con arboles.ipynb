{
 "cells": [
  {
   "cell_type": "markdown",
   "metadata": {},
   "source": [
    "## ARBOLES PARA EL ESTUDIO DEL COMERCIO\n"
   ]
  },
  {
   "cell_type": "markdown",
   "metadata": {},
   "source": [
    "**DEFINIMOS EL GRAFO**"
   ]
  },
  {
   "cell_type": "code",
   "execution_count": 89,
   "metadata": {},
   "outputs": [
    {
     "name": "stdout",
     "output_type": "stream",
     "text": [
      "Peso del vértice A: 3\n",
      "Peso del vértice B: 5\n",
      "Peso del vértice C: 2\n"
     ]
    },
    {
     "data": {
      "image/png": "[encoded data removed]",
      "text/plain": [
       "Graphics object consisting of 20 graphics primitives"
      ]
     },
     "execution_count": 89,
     "metadata": {},
     "output_type": "execute_result"
    }
   ],
   "source": [
    "# Crear un grafo\n",
    "G = Graph()\n",
    "\n",
    "# Agregar vértices\n",
    "G.add_vertices(['A', 'B', 'C', 'D', 'E', 'F', 'G'])\n",
    "\n",
    "# Asignar pesos a los vértices\n",
    "G.set_vertices({'A': {'weight': 3}, 'B': {'weight': 5}, 'C': {'weight': 2}, 'D': {'weight': 5}, 'E': {'weight': 5}\n",
    "               , 'F': {'weight': 5}, 'G': {'weight': 5}})\n",
    "\n",
    "# Agregar aristas\n",
    "aristas=[('A','B',36),('A','C',12),('B','D',34),('C','E',45),('E','F',48),('E','G',18)]\n",
    "G.add_edges(aristas)\n",
    "\n",
    "# Obtener el peso de un vértice específico\n",
    "peso_A = G.get_vertex('A')['weight']\n",
    "peso_B = G.get_vertex('B')['weight']\n",
    "peso_C = G.get_vertex('C')['weight']\n",
    "\n",
    "# Imprimir resultados\n",
    "print(\"Peso del vértice A:\", peso_A)\n",
    "print(\"Peso del vértice B:\", peso_B)\n",
    "print(\"Peso del vértice C:\", peso_C)\n",
    "G.plot(layout='tree', edge_labels=True)"
   ]
  },
  {
   "cell_type": "markdown",
   "metadata": {},
   "source": [
    "**DEFINIMOS EL ALGORITMO**"
   ]
  },
  {
   "cell_type": "code",
   "execution_count": 109,
   "metadata": {},
   "outputs": [],
   "source": [
    "def importancia(capital, g, nodo=None):\n",
    "    \"\"\"\n",
    "    Calcula la importancia de cada vértice en un arbol.\n",
    "\n",
    "    Parameters:\n",
    "        - capital: El vértice desde el cual se calcula la importancia.\n",
    "        - g: El grafo ponderado.\n",
    "        - nodo: Opcional, si se especifica, devuelve la importancia solo para ese nodo.\n",
    "\n",
    "    Returns:\n",
    "        Un diccionario donde las claves son los vértices y los valores son las medidas de importancia.\n",
    "        Si se especifica el parámetro 'nodo', devuelve la importancia solo para ese nodo.\n",
    "    \"\"\"\n",
    "    # Inicializar el diccionario de importancia\n",
    "    importante={}\n",
    "    \n",
    "    # Verificar si el grafo es un árbol\n",
    "    if not g.is_tree():\n",
    "        raise ValueError(\"El grafo no es un arbol. Lo has copiado mal listillo. :)\")\n",
    "    elif not es_ponderado_por_vertices(g):\n",
    "        raise ValueError(\"El grafo no está ponderado por vertices. Lo has copiado mal listillo. :)\")\n",
    "    else:\n",
    "        \n",
    "        # Definir una función interna para calcular la importancia recursivamente\n",
    "        def calcular_importancia(v):\n",
    "            \"\"\"\n",
    "            Calcula la importancia de cada vértice en un árbol.\n",
    "\n",
    "            Parameters:\n",
    "                - v: El vértice actual para el cual se calcula la importancia.\n",
    "\n",
    "            Returns:\n",
    "                Un valor que representa la importancia del vértice actual en el árbol.\n",
    "            \"\"\"\n",
    "            # Calcular el peso y la distancia desde la capital hasta el vértice actual\n",
    "            peso = g.get_vertex(v)['weight']\n",
    "            distancia = g.shortest_path_length(capital, v, by_weight=True)\n",
    "            \n",
    "            # Calcular la importancia para el vértice actual\n",
    "            valor = peso / distancia\n",
    "            \n",
    "            # Sumar la importancia de los hijos y los hijos de los hijos\n",
    "            suma_hijos = sum(calcular_importancia(hijo) for hijo in children(g,v))\n",
    "            return valor + suma_hijos\n",
    "        \n",
    "        # Calcular la importancia final para cada vértice en el grafo\n",
    "        for v in g.vertices():\n",
    "            if not v == capital:\n",
    "                valor = calcular_importancia(v)\n",
    "                importante[v] = valor\n",
    "        \n",
    "        if nodo==None:\n",
    "            return importante\n",
    "        else:\n",
    "            return importante[nodo]\n",
    "\n",
    "def children(t,r=None):\n",
    "    \"\"\"\n",
    "    Devuelve una lista que contiene los hijos del nodo dado perteneciente al árbol.\n",
    "\n",
    "    Parameters:\n",
    "        - t: El árbol.\n",
    "        - r: El nodo dado.\n",
    "\n",
    "    Returns:\n",
    "        Un diccionario donde las claves son los vértices y los valores la lista de hijos del nodo.\n",
    "        Si se especifica el parámetro 'r', devuelve la lista de hijos del nodo.\n",
    "    \"\"\"\n",
    "    dic = {}\n",
    "    lista_visitados = []\n",
    "    for v in t.vertices():\n",
    "        lista_visitados.append(v)\n",
    "        vecinos = t.neighbors(v)\n",
    "        hijos = [elemento for elemento in vecinos if elemento not in lista_visitados]\n",
    "        dic[v] = hijos\n",
    "        \n",
    "    if r==None:\n",
    "        return dic\n",
    "    else:\n",
    "        return dic[r]\n",
    "\n",
    "def es_ponderado_por_vertices(grafo):\n",
    "    \"\"\"\n",
    "    Verifica si un grafo es ponderado por vertices.\n",
    "\n",
    "    Parameters:\n",
    "        - grafo: El grafo a verificar.\n",
    "\n",
    "    Returns:\n",
    "        True si todos los vertices tienen un peso, False de lo contrario.\n",
    "    \"\"\"\n",
    "    for v in grafo.vertices():\n",
    "        datos = grafo.get_vertex(v)\n",
    "        if not isinstance(datos, dict) or 'weight' not in datos:\n",
    "            return False\n",
    "    return True"
   ]
  },
  {
   "cell_type": "markdown",
   "metadata": {},
   "source": [
    "**PROBAMOS EL ALGORITMO**"
   ]
  },
  {
   "cell_type": "code",
   "execution_count": 110,
   "metadata": {},
   "outputs": [
    {
     "name": "stdout",
     "output_type": "stream",
     "text": [
      "Las importancias de cada nodo del arbol: {'B': 53/252, 'C': 1471/3990, 'D': 1/14, 'E': 403/1995, 'F': 1/21, 'G': 1/15}\n",
      "La importancias del nodo D: 1/14\n",
      "¿Los nodos del grafo G tienen valores? True\n",
      "¿Los nodos del grafo G1 tienen valores? False\n",
      "Hijos de cada nodo del arbol G: {'A': ['B', 'C'], 'B': ['D'], 'C': ['E'], 'D': [], 'E': ['F', 'G'], 'F': [], 'G': []}\n",
      "Hijos del nodo A del arbol G: ['B', 'C']\n"
     ]
    }
   ],
   "source": [
    "dic =importancia('A',G)\n",
    "print('Las importancias de cada nodo del arbol:',dic)\n",
    "\n",
    "dic = importancia('A',G, 'D')\n",
    "print('La importancias del nodo D:',dic)\n",
    "\n",
    "dic = es_ponderado_por_vertices(G)\n",
    "print('¿Los nodos del grafo G tienen valores?',dic)\n",
    "\n",
    "G1 = Graph({'a':['d','e','f'],'b':['d','g','h'],'c':['d']})\n",
    "dic = es_ponderado_por_vertices(G1)\n",
    "print('¿Los nodos del grafo G1 tienen valores?',dic)\n",
    "\n",
    "dic = children(G)\n",
    "print('Hijos de cada nodo del arbol G:',dic)\n",
    "\n",
    "dic = children(G, 'A')\n",
    "print('Hijos del nodo A del arbol G:',dic)"
   ]
  },
  {
   "cell_type": "markdown",
   "metadata": {},
   "source": [
    "**PROBAMOS LOS ERRORES PERSONALIZADOS**"
   ]
  },
  {
   "cell_type": "code",
   "execution_count": 111,
   "metadata": {},
   "outputs": [
    {
     "name": "stdout",
     "output_type": "stream",
     "text": [
      "¿Los nodos tienen valores? False\n"
     ]
    },
    {
     "ename": "ValueError",
     "evalue": "El grafo no está ponderado por vertices. Lo has copiado mal listillo. :)",
     "output_type": "error",
     "traceback": [
      "\u001b[0;31m---------------------------------------------------------------------------\u001b[0m",
      "\u001b[0;31mValueError\u001b[0m                                Traceback (most recent call last)",
      "\u001b[0;32m<ipython-input-111-c3d771f07b0a>\u001b[0m in \u001b[0;36m<module>\u001b[0;34m()\u001b[0m\n\u001b[1;32m      1\u001b[0m \u001b[0mG1\u001b[0m \u001b[0;34m=\u001b[0m \u001b[0mGraph\u001b[0m\u001b[0;34m(\u001b[0m\u001b[0;34m{\u001b[0m\u001b[0;34m'a'\u001b[0m\u001b[0;34m:\u001b[0m\u001b[0;34m[\u001b[0m\u001b[0;34m'd'\u001b[0m\u001b[0;34m,\u001b[0m\u001b[0;34m'e'\u001b[0m\u001b[0;34m,\u001b[0m\u001b[0;34m'f'\u001b[0m\u001b[0;34m]\u001b[0m\u001b[0;34m,\u001b[0m\u001b[0;34m'b'\u001b[0m\u001b[0;34m:\u001b[0m\u001b[0;34m[\u001b[0m\u001b[0;34m'd'\u001b[0m\u001b[0;34m,\u001b[0m\u001b[0;34m'g'\u001b[0m\u001b[0;34m,\u001b[0m\u001b[0;34m'h'\u001b[0m\u001b[0;34m]\u001b[0m\u001b[0;34m,\u001b[0m\u001b[0;34m'c'\u001b[0m\u001b[0;34m:\u001b[0m\u001b[0;34m[\u001b[0m\u001b[0;34m'd'\u001b[0m\u001b[0;34m]\u001b[0m\u001b[0;34m}\u001b[0m\u001b[0;34m)\u001b[0m\u001b[0;34m\u001b[0m\u001b[0;34m\u001b[0m\u001b[0m\n\u001b[1;32m      2\u001b[0m \u001b[0mprint\u001b[0m\u001b[0;34m(\u001b[0m\u001b[0;34m'¿Los nodos tienen valores?'\u001b[0m\u001b[0;34m,\u001b[0m\u001b[0mes_ponderado_por_vertices\u001b[0m\u001b[0;34m(\u001b[0m\u001b[0mG1\u001b[0m\u001b[0;34m)\u001b[0m\u001b[0;34m)\u001b[0m\u001b[0;34m\u001b[0m\u001b[0;34m\u001b[0m\u001b[0m\n\u001b[0;32m----> 3\u001b[0;31m \u001b[0mimportancia\u001b[0m\u001b[0;34m(\u001b[0m\u001b[0;34m'a'\u001b[0m\u001b[0;34m,\u001b[0m \u001b[0mG1\u001b[0m\u001b[0;34m)\u001b[0m\u001b[0;34m\u001b[0m\u001b[0;34m\u001b[0m\u001b[0m\n\u001b[0m",
      "\u001b[0;32m<ipython-input-109-d2ce4d8c9196>\u001b[0m in \u001b[0;36mimportancia\u001b[0;34m(capital, g, nodo)\u001b[0m\n\u001b[1;32m     19\u001b[0m         \u001b[0;32mraise\u001b[0m \u001b[0mValueError\u001b[0m\u001b[0;34m(\u001b[0m\u001b[0;34m\"El grafo no es un arbol. Lo has copiado mal listillo. :)\"\u001b[0m\u001b[0;34m)\u001b[0m\u001b[0;34m\u001b[0m\u001b[0;34m\u001b[0m\u001b[0m\n\u001b[1;32m     20\u001b[0m     \u001b[0;32melif\u001b[0m \u001b[0;32mnot\u001b[0m \u001b[0mes_ponderado_por_vertices\u001b[0m\u001b[0;34m(\u001b[0m\u001b[0mg\u001b[0m\u001b[0;34m)\u001b[0m\u001b[0;34m:\u001b[0m\u001b[0;34m\u001b[0m\u001b[0;34m\u001b[0m\u001b[0m\n\u001b[0;32m---> 21\u001b[0;31m         \u001b[0;32mraise\u001b[0m \u001b[0mValueError\u001b[0m\u001b[0;34m(\u001b[0m\u001b[0;34m\"El grafo no está ponderado por vertices. Lo has copiado mal listillo. :)\"\u001b[0m\u001b[0;34m)\u001b[0m\u001b[0;34m\u001b[0m\u001b[0;34m\u001b[0m\u001b[0m\n\u001b[0m\u001b[1;32m     22\u001b[0m     \u001b[0;32melse\u001b[0m\u001b[0;34m:\u001b[0m\u001b[0;34m\u001b[0m\u001b[0;34m\u001b[0m\u001b[0m\n\u001b[1;32m     23\u001b[0m \u001b[0;34m\u001b[0m\u001b[0m\n",
      "\u001b[0;31mValueError\u001b[0m: El grafo no está ponderado por vertices. Lo has copiado mal listillo. :)"
     ]
    }
   ],
   "source": [
    "G1 = Graph({'a':['d','e','f'],'b':['d','g','h'],'c':['d']})\n",
    "print('¿Los nodos tienen valores?',es_ponderado_por_vertices(G1))\n",
    "importancia('a', G1)"
   ]
  },
  {
   "cell_type": "code",
   "execution_count": 112,
   "metadata": {},
   "outputs": [
    {
     "name": "stdout",
     "output_type": "stream",
     "text": [
      "¿Es arbol? False\n"
     ]
    },
    {
     "ename": "ValueError",
     "evalue": "El grafo no es un arbol. Lo has copiado mal listillo. :)",
     "output_type": "error",
     "traceback": [
      "\u001b[0;31m---------------------------------------------------------------------------\u001b[0m",
      "\u001b[0;31mValueError\u001b[0m                                Traceback (most recent call last)",
      "\u001b[0;32m<ipython-input-112-3dc577510322>\u001b[0m in \u001b[0;36m<module>\u001b[0;34m()\u001b[0m\n\u001b[1;32m      1\u001b[0m \u001b[0mG1\u001b[0m \u001b[0;34m=\u001b[0m \u001b[0mGraph\u001b[0m\u001b[0;34m(\u001b[0m\u001b[0;34m{\u001b[0m\u001b[0;34m'a'\u001b[0m\u001b[0;34m:\u001b[0m\u001b[0;34m[\u001b[0m\u001b[0;34m'b'\u001b[0m\u001b[0;34m,\u001b[0m\u001b[0;34m'c'\u001b[0m\u001b[0;34m,\u001b[0m\u001b[0;34m'f'\u001b[0m\u001b[0;34m]\u001b[0m\u001b[0;34m,\u001b[0m\u001b[0;34m'b'\u001b[0m\u001b[0;34m:\u001b[0m\u001b[0;34m[\u001b[0m\u001b[0;34m'd'\u001b[0m\u001b[0;34m]\u001b[0m\u001b[0;34m,\u001b[0m\u001b[0;34m'c'\u001b[0m\u001b[0;34m:\u001b[0m\u001b[0;34m[\u001b[0m\u001b[0;34m'e'\u001b[0m\u001b[0;34m]\u001b[0m\u001b[0;34m,\u001b[0m \u001b[0;34m'e'\u001b[0m\u001b[0;34m:\u001b[0m\u001b[0;34m[\u001b[0m\u001b[0;34m'g'\u001b[0m\u001b[0;34m,\u001b[0m\u001b[0;34m'f'\u001b[0m\u001b[0;34m]\u001b[0m\u001b[0;34m}\u001b[0m\u001b[0;34m)\u001b[0m\u001b[0;34m\u001b[0m\u001b[0;34m\u001b[0m\u001b[0m\n\u001b[1;32m      2\u001b[0m \u001b[0mprint\u001b[0m\u001b[0;34m(\u001b[0m\u001b[0;34m'¿Es arbol?'\u001b[0m\u001b[0;34m,\u001b[0m \u001b[0mG1\u001b[0m\u001b[0;34m.\u001b[0m\u001b[0mis_tree\u001b[0m\u001b[0;34m(\u001b[0m\u001b[0;34m)\u001b[0m\u001b[0;34m)\u001b[0m\u001b[0;34m\u001b[0m\u001b[0;34m\u001b[0m\u001b[0m\n\u001b[0;32m----> 3\u001b[0;31m \u001b[0mimportancia\u001b[0m\u001b[0;34m(\u001b[0m\u001b[0;34m'a'\u001b[0m\u001b[0;34m,\u001b[0m \u001b[0mG1\u001b[0m\u001b[0;34m)\u001b[0m\u001b[0;34m\u001b[0m\u001b[0;34m\u001b[0m\u001b[0m\n\u001b[0m",
      "\u001b[0;32m<ipython-input-109-d2ce4d8c9196>\u001b[0m in \u001b[0;36mimportancia\u001b[0;34m(capital, g, nodo)\u001b[0m\n\u001b[1;32m     17\u001b[0m     \u001b[0;31m# Verificar si el grafo es un árbol\u001b[0m\u001b[0;34m\u001b[0m\u001b[0;34m\u001b[0m\u001b[0;34m\u001b[0m\u001b[0m\n\u001b[1;32m     18\u001b[0m     \u001b[0;32mif\u001b[0m \u001b[0;32mnot\u001b[0m \u001b[0mg\u001b[0m\u001b[0;34m.\u001b[0m\u001b[0mis_tree\u001b[0m\u001b[0;34m(\u001b[0m\u001b[0;34m)\u001b[0m\u001b[0;34m:\u001b[0m\u001b[0;34m\u001b[0m\u001b[0;34m\u001b[0m\u001b[0m\n\u001b[0;32m---> 19\u001b[0;31m         \u001b[0;32mraise\u001b[0m \u001b[0mValueError\u001b[0m\u001b[0;34m(\u001b[0m\u001b[0;34m\"El grafo no es un arbol. Lo has copiado mal listillo. :)\"\u001b[0m\u001b[0;34m)\u001b[0m\u001b[0;34m\u001b[0m\u001b[0;34m\u001b[0m\u001b[0m\n\u001b[0m\u001b[1;32m     20\u001b[0m     \u001b[0;32melif\u001b[0m \u001b[0;32mnot\u001b[0m \u001b[0mes_ponderado_por_vertices\u001b[0m\u001b[0;34m(\u001b[0m\u001b[0mg\u001b[0m\u001b[0;34m)\u001b[0m\u001b[0;34m:\u001b[0m\u001b[0;34m\u001b[0m\u001b[0;34m\u001b[0m\u001b[0m\n\u001b[1;32m     21\u001b[0m         \u001b[0;32mraise\u001b[0m \u001b[0mValueError\u001b[0m\u001b[0;34m(\u001b[0m\u001b[0;34m\"El grafo no está ponderado por vertices. Lo has copiado mal listillo. :)\"\u001b[0m\u001b[0;34m)\u001b[0m\u001b[0;34m\u001b[0m\u001b[0;34m\u001b[0m\u001b[0m\n",
      "\u001b[0;31mValueError\u001b[0m: El grafo no es un arbol. Lo has copiado mal listillo. :)"
     ]
    }
   ],
   "source": [
    "G1 = Graph({'a':['b','c','f'],'b':['d'],'c':['e'], 'e':['g','f']})\n",
    "print('¿Es arbol?', G1.is_tree())\n",
    "importancia('a', G1)"
   ]
  },
  {
   "cell_type": "code",
   "execution_count": null,
   "metadata": {},
   "outputs": [],
   "source": []
  }
 ],
 "metadata": {
  "kernelspec": {
   "display_name": "SageMath 9.1",
   "language": "sage",
   "name": "sagemath"
  },
  "language_info": {
   "codemirror_mode": {
    "name": "ipython",
    "version": 3
   },
   "file_extension": ".py",
   "mimetype": "text/x-python",
   "name": "python",
   "nbconvert_exporter": "python",
   "pygments_lexer": "ipython3",
   "version": "3.7.3"
  }
 },
 "nbformat": 4,
 "nbformat_minor": 2
}
