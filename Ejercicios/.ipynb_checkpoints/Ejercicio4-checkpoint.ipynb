{
 "cells": [
  {
   "cell_type": "markdown",
   "metadata": {},
   "source": [
    "<h2>PARTE EN SUCIO</h2>"
   ]
  },
  {
   "cell_type": "code",
   "execution_count": 1,
   "metadata": {},
   "outputs": [],
   "source": [
    "import networkx as nx\n",
    "import matplotlib.pyplot as plt\n",
    "import json\n",
    "import math\n",
    "import random\n",
    "from itertools import tee"
   ]
  },
  {
   "cell_type": "code",
   "execution_count": 2,
   "metadata": {},
   "outputs": [],
   "source": [
    "def lectura(ruta_archivo: str):\n",
    "    try:\n",
    "        # Leer el contenido del archivo JSON\n",
    "        with open(ruta_archivo, 'r', encoding='utf-8') as archivo:\n",
    "            datos_json = json.load(archivo)\n",
    "\n",
    "        # Acceder a todas las entradas de \"galactic_object\"\n",
    "        objetos_galacticos = datos_json.get(\"galactic_object\", {})\n",
    "\n",
    "        if objetos_galacticos:\n",
    "            map = {}\n",
    "\n",
    "            # Iterar a través de todas las entradas de \"galactic_object\"\n",
    "            for id_objeto, objeto_galactico in objetos_galacticos.items():\n",
    "                # Acceder e imprimir o utilizar propiedades específicas de cada \"galactic_object\"\n",
    "                coordenada = objeto_galactico[\"coordinate\"]\n",
    "                nombre = objeto_galactico[\"name\"][\"key\"]\n",
    "                hyperlane = objeto_galactico.get(\"hyperlane\",[])\n",
    "\n",
    "                # Verificar si la longitud de hyperlane es mayor que 0, para eliminar vértices anormales\n",
    "                if len(hyperlane) > 0:\n",
    "                    # Guardar la información necesaria en el diccionario\n",
    "                    map[int(id_objeto)] = [nombre, [(i[\"to\"], i[\"length\"]) for i in hyperlane], (coordenada[\"x\"], coordenada[\"y\"])]\n",
    "            return map\n",
    "        else:\n",
    "            raise ValueError(\"La clave 'galactic_object' no existe en los datos JSON.\") \n",
    "    \n",
    "    except Exception as e:\n",
    "        print(f\"Error al leer o analizar el archivo JSON: {e}\")\n",
    "\n"
   ]
  },
  {
   "cell_type": "code",
   "execution_count": 3,
   "metadata": {},
   "outputs": [],
   "source": [
    "partida = lectura('../output/output1.json')"
   ]
  },
  {
   "cell_type": "code",
   "execution_count": 4,
   "metadata": {},
   "outputs": [],
   "source": [
    "def test_lectura(diccionario):\n",
    "    # Imprimir los 3 primeros elementos\n",
    "    print('Mostrando los tres primeros sistemas de la galaxia:')\n",
    "    for r in list(diccionario.items())[:3]:\n",
    "        print(r[0], \": \", r[1])\n",
    "    # Imprimir puntos suspensivos\n",
    "    print(\"...\")\n",
    "    # Imprimir los 3 últimos elementos\n",
    "    print('Mostrando los tres últimos sistemas de la galaxia:')\n",
    "    for r in list(diccionario.items())[-3:]:\n",
    "        print(r[0], \": \", r[1])"
   ]
  },
  {
   "cell_type": "code",
   "execution_count": 6,
   "metadata": {},
   "outputs": [],
   "source": [
    "def genera_grafo(diccionario) -> nx.Graph:\n",
    "    diccionarioaux = diccionario.copy()\n",
    "    diccionarioaux = {clave: diccionarioaux[clave][1] for clave in diccionarioaux}\n",
    "    grafo = nx.Graph()\n",
    "    for r in diccionarioaux:\n",
    "        if len(diccionarioaux[r])>0:\n",
    "            grafo.add_edges_from((r, k[0]) for k in diccionarioaux[r])\n",
    "    componentes_conexas = list(nx.connected_components(grafo))\n",
    "\n",
    "    # Encontrar la componente conexa más grande\n",
    "    tamanos_componentes = [len(componente) for componente in componentes_conexas]\n",
    "    indice_componente_a_conservar = tamanos_componentes.index(max(tamanos_componentes))\n",
    "    componente_a_conservar = list(componentes_conexas[indice_componente_a_conservar])\n",
    "\n",
    "    # Crear un nuevo grafo con solo la componente conexa más grande\n",
    "    G_componente_grande = grafo.subgraph(componente_a_conservar).copy()\n",
    "    for r in diccionario.copy():\n",
    "        if r not in G_componente_grande:\n",
    "            diccionario.pop(r)\n",
    "    return G_componente_grande"
   ]
  },
  {
   "cell_type": "code",
   "execution_count": 7,
   "metadata": {},
   "outputs": [],
   "source": [
    "mapa = genera_grafo(partida)"
   ]
  },
  {
   "cell_type": "code",
   "execution_count": 8,
   "metadata": {},
   "outputs": [],
   "source": [
    "def test_genera_grafo(diccionario) -> None:\n",
    "    grafoaux = genera_grafo(diccionario)\n",
    "    diccionarioaux = nx.to_dict_of_lists(grafoaux)\n",
    "    print('Mostrando las conexiones de los tres primeros sistemas de la galaxia:')\n",
    "    [print(r[0],\":\",r[1]) for r in sorted(diccionarioaux.items())[:3]]\n",
    "    print(\"...\")\n",
    "    print('Mostrando las conexiones de los tres últimos sistemas:')\n",
    "    [print(r[0],\":\",r[1]) for r in sorted(diccionarioaux.items())[-3:]]"
   ]
  },
  {
   "cell_type": "code",
   "execution_count": 10,
   "metadata": {},
   "outputs": [],
   "source": [
    "def adjudica_pesos(grafo, diccionario) -> nx.Graph:\n",
    "    diccionarioaux = diccionario.copy()\n",
    "    diccionarioaux = {clave: diccionarioaux[clave][1] for clave in diccionarioaux}\n",
    "    grafoaux = grafo.copy()\n",
    "    for origen in diccionarioaux:\n",
    "        for destino, peso in diccionarioaux[origen]:\n",
    "            grafoaux[origen][destino]['weight'] = peso\n",
    "        \n",
    "    return grafoaux"
   ]
  },
  {
   "cell_type": "code",
   "execution_count": 11,
   "metadata": {},
   "outputs": [],
   "source": [
    "pesos_mapa = adjudica_pesos(mapa, partida)"
   ]
  },
  {
   "cell_type": "code",
   "execution_count": 12,
   "metadata": {},
   "outputs": [],
   "source": [
    "def test_adjudica_pesos(grafo, diccionario) -> None:\n",
    "    grafoaux = adjudica_pesos(grafo, diccionario)\n",
    "    diccionarioaux = {u: [(v, data['weight']) for v, data in grafoaux[u].items()] for u in grafoaux.nodes()}\n",
    "    print('Distancias entre los primeros tres sistemas y sus conexiones:')\n",
    "    [print(r[0],\":\",r[1]) for r in sorted(diccionarioaux.items())[:3]]\n",
    "    print(\"...\")\n",
    "    print('Distancias entre los tres últimos sistemas y sus conexiones:')\n",
    "    [print(r[0],\":\",r[1]) for r in sorted(diccionarioaux.items())[-3:]]"
   ]
  },
  {
   "cell_type": "code",
   "execution_count": 14,
   "metadata": {},
   "outputs": [],
   "source": [
    "def adjudica_posiciones(grafo, diccionario) -> nx.Graph:\n",
    "    diccionarioaux = diccionario.copy()\n",
    "    diccionariox = {clave: diccionarioaux[clave][2][0] for clave in diccionarioaux}\n",
    "    diccionarioy = {clave: diccionarioaux[clave][2][1] for clave in diccionarioaux}\n",
    "    grafoaux = grafo.copy()\n",
    "    nx.set_node_attributes(grafoaux, diccionariox, 'x')\n",
    "    nx.set_node_attributes(grafoaux, diccionarioy, 'y')\n",
    "    return grafoaux"
   ]
  },
  {
   "cell_type": "code",
   "execution_count": 15,
   "metadata": {},
   "outputs": [],
   "source": [
    "posiciones_mapa = adjudica_posiciones(pesos_mapa, partida)"
   ]
  },
  {
   "cell_type": "code",
   "execution_count": 16,
   "metadata": {},
   "outputs": [],
   "source": [
    "def test_adjudica_posiciones(grafo, diccionario) -> None:\n",
    "    grafoaux = adjudica_posiciones(grafo, diccionario)\n",
    "    diccionarioaux = {u: (grafoaux.nodes[u]['x'], grafoaux.nodes[u]['y']) for u in grafoaux.nodes()}\n",
    "    print('Coordenadas de los tres primeros sistemas:')\n",
    "    [print(u, \":\", pos) for u, pos in sorted(diccionarioaux.items())[:3]]\n",
    "    print(\"...\")\n",
    "    print('Coordenadas de los tres últimos sistemas:')\n",
    "    [print(u, \":\", pos) for u, pos in sorted(diccionarioaux.items())[-3:]]"
   ]
  },
  {
   "cell_type": "code",
   "execution_count": 18,
   "metadata": {},
   "outputs": [],
   "source": [
    "def adjudica_etiquetas(grafo, diccionario) -> nx.Graph:\n",
    "    diccionarioaux = diccionario.copy()\n",
    "    diccionarioaux = {clave: diccionarioaux[clave][0] for clave in diccionarioaux}\n",
    "    grafoaux = grafo.copy()\n",
    "    nx.set_node_attributes(grafoaux, diccionarioaux, 'Label')\n",
    "    return grafoaux"
   ]
  },
  {
   "cell_type": "code",
   "execution_count": 19,
   "metadata": {},
   "outputs": [],
   "source": [
    "mapa_completo = adjudica_etiquetas(posiciones_mapa, partida)"
   ]
  },
  {
   "cell_type": "code",
   "execution_count": 20,
   "metadata": {},
   "outputs": [],
   "source": [
    "def test_adjudica_etiquetas(grafo, diccionario) -> None:\n",
    "    grafoaux = adjudica_etiquetas(grafo, diccionario)\n",
    "    diccionarioaux = {u: grafoaux.nodes[u]['Label'] for u in grafoaux.nodes()}\n",
    "    print('Etiquetas correspondientes a los tres primeros sistemas:')\n",
    "    [print(u, \":\", label) for u, label in sorted(diccionarioaux.items())[:3]]\n",
    "    print(\"...\")\n",
    "    print('Etiquetas correspondientes a los tres últimos sistemas:')\n",
    "    [print(u, \":\", label) for u, label in sorted(diccionarioaux.items())[-3:]]"
   ]
  },
  {
   "cell_type": "code",
   "execution_count": null,
   "metadata": {},
   "outputs": [],
   "source": []
  },
  {
   "cell_type": "code",
   "execution_count": null,
   "metadata": {},
   "outputs": [],
   "source": []
  }
 ],
 "metadata": {
  "kernelspec": {
   "display_name": "SageMath 9.3",
   "language": "sage",
   "name": "sagemath"
  },
  "language_info": {
   "codemirror_mode": {
    "name": "ipython",
    "version": 3
   },
   "file_extension": ".py",
   "mimetype": "text/x-python",
   "name": "python",
   "nbconvert_exporter": "python",
   "pygments_lexer": "ipython3",
   "version": "3.7.10"
  }
 },
 "nbformat": 4,
 "nbformat_minor": 4
}
