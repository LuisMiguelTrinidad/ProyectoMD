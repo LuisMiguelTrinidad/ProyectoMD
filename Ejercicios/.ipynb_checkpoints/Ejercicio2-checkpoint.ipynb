{
 "cells": [
  {
   "cell_type": "markdown",
   "metadata": {},
   "source": [
    "<h2>PARTE EN SUCIO</h2>"
   ]
  },
  {
   "cell_type": "code",
   "execution_count": 1,
   "metadata": {},
   "outputs": [],
   "source": [
    "import networkx as nx\n",
    "import matplotlib.pyplot as plt\n",
    "import json\n",
    "import math\n",
    "import random\n",
    "from itertools import tee"
   ]
  },
  {
   "cell_type": "code",
   "execution_count": 2,
   "metadata": {},
   "outputs": [],
   "source": [
    "def lectura(ruta_archivo: str):\n",
    "    try:\n",
    "        # Leer el contenido del archivo JSON\n",
    "        with open(ruta_archivo, 'r', encoding='utf-8') as archivo:\n",
    "            datos_json = json.load(archivo)\n",
    "\n",
    "        # Acceder a todas las entradas de \"galactic_object\"\n",
    "        objetos_galacticos = datos_json.get(\"galactic_object\", {})\n",
    "\n",
    "        if objetos_galacticos:\n",
    "            map = {}\n",
    "\n",
    "            # Iterar a través de todas las entradas de \"galactic_object\"\n",
    "            for id_objeto, objeto_galactico in objetos_galacticos.items():\n",
    "                # Acceder e imprimir o utilizar propiedades específicas de cada \"galactic_object\"\n",
    "                coordenada = objeto_galactico[\"coordinate\"]\n",
    "                nombre = objeto_galactico[\"name\"][\"key\"]\n",
    "                hyperlane = objeto_galactico.get(\"hyperlane\",[])\n",
    "\n",
    "                # Verificar si la longitud de hyperlane es mayor que 0, para eliminar vértices anormales\n",
    "                if len(hyperlane) > 0:\n",
    "                    # Guardar la información necesaria en el diccionario\n",
    "                    map[int(id_objeto)] = [nombre, [(i[\"to\"], i[\"length\"]) for i in hyperlane], (coordenada[\"x\"], coordenada[\"y\"])]\n",
    "            return map\n",
    "        else:\n",
    "            raise ValueError(\"La clave 'galactic_object' no existe en los datos JSON.\") \n",
    "    \n",
    "    except Exception as e:\n",
    "        print(f\"Error al leer o analizar el archivo JSON: {e}\")\n",
    "\n"
   ]
  },
  {
   "cell_type": "code",
   "execution_count": 3,
   "metadata": {},
   "outputs": [],
   "source": [
    "partida = lectura('../output/output1.json')"
   ]
  },
  {
   "cell_type": "code",
   "execution_count": 4,
   "metadata": {},
   "outputs": [],
   "source": [
    "def test_lectura(diccionario):\n",
    "    # Imprimir los 3 primeros elementos\n",
    "    print('Mostrando los tres primeros sistemas de la galaxia:')\n",
    "    for r in list(diccionario.items())[:3]:\n",
    "        print(r[0], \": \", r[1])\n",
    "    # Imprimir puntos suspensivos\n",
    "    print(\"...\")\n",
    "    # Imprimir los 3 últimos elementos\n",
    "    print('Mostrando los tres últimos sistemas de la galaxia:')\n",
    "    for r in list(diccionario.items())[-3:]:\n",
    "        print(r[0], \": \", r[1])"
   ]
  },
  {
   "cell_type": "code",
   "execution_count": 5,
   "metadata": {},
   "outputs": [
    {
     "name": "stdout",
     "output_type": "stream",
     "text": [
      "Total de sistemas que hay en el mapa: 405\n",
      "Mostrando los tres primeros sistemas de la galaxia:\n",
      "0 :  ['Romin', [(378, 25), (52, 18), (323, 14)], (-122.54, 75.57)]\n",
      "1 :  ['Obethalon', [(115, 23), (2, 23), (11, 20), (327, 18), (360, 15)], (8.93, -132.24)]\n",
      "2 :  ['NAME_Polaris', [(1, 23), (360, 15)], (-0.68, -110.91)]\n",
      "...\n",
      "Mostrando los tres últimos sistemas de la galaxia:\n",
      "404 :  ['Ginigan', [(401, 19.01996), (402, 46.24685)], (37.10015, -360.93445)]\n",
      "405 :  ['Debbux', [(398, 9.69062), (400, 21.92165)], (50.55796, -352.70765)]\n",
      "406 :  ['Esteraeus', [(398, 9.92183), (400, 15.60372)], (68.67316, -347.11896)]\n"
     ]
    }
   ],
   "source": [
    "print('Total de sistemas que hay en el mapa:', len(partida))\n",
    "test_lectura(partida)"
   ]
  },
  {
   "cell_type": "code",
   "execution_count": 6,
   "metadata": {},
   "outputs": [],
   "source": [
    "def genera_grafo(diccionario) -> nx.Graph:\n",
    "    diccionarioaux = diccionario.copy()\n",
    "    diccionarioaux = {clave: diccionarioaux[clave][1] for clave in diccionarioaux}\n",
    "    grafo = nx.Graph()\n",
    "    for r in diccionarioaux:\n",
    "        if len(diccionarioaux[r])>0:\n",
    "            grafo.add_edges_from((r, k[0]) for k in diccionarioaux[r])\n",
    "    componentes_conexas = list(nx.connected_components(grafo))\n",
    "\n",
    "    # Encontrar la componente conexa más grande\n",
    "    tamanos_componentes = [len(componente) for componente in componentes_conexas]\n",
    "    indice_componente_a_conservar = tamanos_componentes.index(max(tamanos_componentes))\n",
    "    componente_a_conservar = list(componentes_conexas[indice_componente_a_conservar])\n",
    "\n",
    "    # Crear un nuevo grafo con solo la componente conexa más grande\n",
    "    G_componente_grande = grafo.subgraph(componente_a_conservar).copy()\n",
    "    for r in diccionario.copy():\n",
    "        if r not in G_componente_grande:\n",
    "            diccionario.pop(r)\n",
    "    return G_componente_grande"
   ]
  },
  {
   "cell_type": "code",
   "execution_count": 7,
   "metadata": {},
   "outputs": [],
   "source": [
    "mapa = genera_grafo(partida)"
   ]
  },
  {
   "cell_type": "code",
   "execution_count": 8,
   "metadata": {},
   "outputs": [],
   "source": [
    "def test_genera_grafo(diccionario) -> None:\n",
    "    grafoaux = genera_grafo(diccionario)\n",
    "    diccionarioaux = nx.to_dict_of_lists(grafoaux)\n",
    "    print('Mostrando las conexiones de los tres primeros sistemas de la galaxia:')\n",
    "    [print(r[0],\":\",r[1]) for r in sorted(diccionarioaux.items())[:3]]\n",
    "    print(\"...\")\n",
    "    print('Mostrando las conexiones de los tres últimos sistemas:')\n",
    "    [print(r[0],\":\",r[1]) for r in sorted(diccionarioaux.items())[-3:]]"
   ]
  },
  {
   "cell_type": "code",
   "execution_count": 9,
   "metadata": {
    "scrolled": true
   },
   "outputs": [
    {
     "name": "stdout",
     "output_type": "stream",
     "text": [
      "Mostrando las conexiones de los tres primeros sistemas de la galaxia:\n",
      "0 : [378, 52, 323]\n",
      "1 : [115, 2, 11, 327, 360]\n",
      "2 : [1, 360]\n",
      "...\n",
      "Mostrando las conexiones de los tres últimos sistemas:\n",
      "394 : [302, 183, 289]\n",
      "395 : [40, 245]\n",
      "396 : [264]\n"
     ]
    }
   ],
   "source": [
    "test_genera_grafo(partida)"
   ]
  },
  {
   "cell_type": "code",
   "execution_count": 10,
   "metadata": {},
   "outputs": [],
   "source": [
    "def adjudica_pesos(grafo, diccionario) -> nx.Graph:\n",
    "    diccionarioaux = diccionario.copy()\n",
    "    diccionarioaux = {clave: diccionarioaux[clave][1] for clave in diccionarioaux}\n",
    "    grafoaux = grafo.copy()\n",
    "    for origen in diccionarioaux:\n",
    "        for destino, peso in diccionarioaux[origen]:\n",
    "            grafoaux[origen][destino]['weight'] = peso\n",
    "        \n",
    "    return grafoaux"
   ]
  },
  {
   "cell_type": "code",
   "execution_count": 11,
   "metadata": {},
   "outputs": [],
   "source": [
    "pesos_mapa = adjudica_pesos(mapa, partida)"
   ]
  },
  {
   "cell_type": "code",
   "execution_count": 12,
   "metadata": {},
   "outputs": [],
   "source": [
    "def test_adjudica_pesos(grafo, diccionario) -> None:\n",
    "    grafoaux = adjudica_pesos(grafo, diccionario)\n",
    "    diccionarioaux = {u: [(v, data['weight']) for v, data in grafoaux[u].items()] for u in grafoaux.nodes()}\n",
    "    print('Distancias entre los primeros tres sistemas y sus conexiones:')\n",
    "    [print(r[0],\":\",r[1]) for r in sorted(diccionarioaux.items())[:3]]\n",
    "    print(\"...\")\n",
    "    print('Distancias entre los tres últimos sistemas y sus conexiones:')\n",
    "    [print(r[0],\":\",r[1]) for r in sorted(diccionarioaux.items())[-3:]]"
   ]
  },
  {
   "cell_type": "code",
   "execution_count": 13,
   "metadata": {},
   "outputs": [
    {
     "name": "stdout",
     "output_type": "stream",
     "text": [
      "Distancias entre los primeros tres sistemas y sus conexiones:\n",
      "0 : [(378, 25), (52, 18), (323, 14)]\n",
      "1 : [(115, 23), (2, 23), (11, 20), (327, 18), (360, 15)]\n",
      "2 : [(1, 23), (360, 15)]\n",
      "...\n",
      "Distancias entre los tres últimos sistemas y sus conexiones:\n",
      "394 : [(302, 15), (183, 18), (289, 24)]\n",
      "395 : [(40, 24.28477), (245, 24.91981)]\n",
      "396 : [(264, 10.24677)]\n"
     ]
    }
   ],
   "source": [
    "test_adjudica_pesos(mapa, partida)"
   ]
  },
  {
   "cell_type": "code",
   "execution_count": 14,
   "metadata": {},
   "outputs": [],
   "source": [
    "def adjudica_posiciones(grafo, diccionario) -> nx.Graph:\n",
    "    diccionarioaux = diccionario.copy()\n",
    "    diccionariox = {clave: diccionarioaux[clave][2][0] for clave in diccionarioaux}\n",
    "    diccionarioy = {clave: diccionarioaux[clave][2][1] for clave in diccionarioaux}\n",
    "    grafoaux = grafo.copy()\n",
    "    nx.set_node_attributes(grafoaux, diccionariox, 'x')\n",
    "    nx.set_node_attributes(grafoaux, diccionarioy, 'y')\n",
    "    return grafoaux"
   ]
  },
  {
   "cell_type": "code",
   "execution_count": 15,
   "metadata": {},
   "outputs": [],
   "source": [
    "posiciones_mapa = adjudica_posiciones(pesos_mapa, partida)"
   ]
  },
  {
   "cell_type": "code",
   "execution_count": 16,
   "metadata": {},
   "outputs": [],
   "source": [
    "def test_adjudica_posiciones(grafo, diccionario) -> None:\n",
    "    grafoaux = adjudica_posiciones(grafo, diccionario)\n",
    "    diccionarioaux = {u: (grafoaux.nodes[u]['x'], grafoaux.nodes[u]['y']) for u in grafoaux.nodes()}\n",
    "    print('Coordenadas de los tres primeros sistemas:')\n",
    "    [print(u, \":\", pos) for u, pos in sorted(diccionarioaux.items())[:3]]\n",
    "    print(\"...\")\n",
    "    print('Coordenadas de los tres últimos sistemas:')\n",
    "    [print(u, \":\", pos) for u, pos in sorted(diccionarioaux.items())[-3:]]"
   ]
  },
  {
   "cell_type": "code",
   "execution_count": 17,
   "metadata": {},
   "outputs": [
    {
     "name": "stdout",
     "output_type": "stream",
     "text": [
      "Coordenadas de los tres primeros sistemas:\n",
      "0 : (-122.54, 75.57)\n",
      "1 : (8.93, -132.24)\n",
      "2 : (-0.68, -110.91)\n",
      "...\n",
      "Coordenadas de los tres últimos sistemas:\n",
      "394 : (-26.8, -91.25)\n",
      "395 : (167.81737, 4.08544)\n",
      "396 : (78.68052, -219.70934)\n"
     ]
    }
   ],
   "source": [
    "test_adjudica_posiciones(mapa, partida)"
   ]
  },
  {
   "cell_type": "code",
   "execution_count": 18,
   "metadata": {},
   "outputs": [],
   "source": [
    "def adjudica_etiquetas(grafo, diccionario) -> nx.Graph:\n",
    "    diccionarioaux = diccionario.copy()\n",
    "    diccionarioaux = {clave: diccionarioaux[clave][0] for clave in diccionarioaux}\n",
    "    grafoaux = grafo.copy()\n",
    "    nx.set_node_attributes(grafoaux, diccionarioaux, 'Label')\n",
    "    return grafoaux"
   ]
  },
  {
   "cell_type": "code",
   "execution_count": 19,
   "metadata": {},
   "outputs": [],
   "source": [
    "mapa_completo = adjudica_etiquetas(posiciones_mapa, partida)"
   ]
  },
  {
   "cell_type": "code",
   "execution_count": 20,
   "metadata": {},
   "outputs": [],
   "source": [
    "def test_adjudica_etiquetas(grafo, diccionario) -> None:\n",
    "    grafoaux = adjudica_etiquetas(grafo, diccionario)\n",
    "    diccionarioaux = {u: grafoaux.nodes[u]['Label'] for u in grafoaux.nodes()}\n",
    "    print('Etiquetas correspondientes a los tres primeros sistemas:')\n",
    "    [print(u, \":\", label) for u, label in sorted(diccionarioaux.items())[:3]]\n",
    "    print(\"...\")\n",
    "    print('Etiquetas correspondientes a los tres últimos sistemas:')\n",
    "    [print(u, \":\", label) for u, label in sorted(diccionarioaux.items())[-3:]]"
   ]
  },
  {
   "cell_type": "code",
   "execution_count": 21,
   "metadata": {},
   "outputs": [
    {
     "name": "stdout",
     "output_type": "stream",
     "text": [
      "Etiquetas correspondientes a los tres primeros sistemas:\n",
      "0 : Romin\n",
      "1 : Obethalon\n",
      "2 : NAME_Polaris\n",
      "...\n",
      "Etiquetas correspondientes a los tres últimos sistemas:\n",
      "394 : Ejok\n",
      "395 : NAME_Sol\n",
      "396 : Pentarum\n"
     ]
    }
   ],
   "source": [
    "test_adjudica_etiquetas(mapa, partida)"
   ]
  },
  {
   "cell_type": "code",
   "execution_count": null,
   "metadata": {},
   "outputs": [],
   "source": []
  },
  {
   "cell_type": "markdown",
   "metadata": {},
   "source": [
    "---\n",
    "<h2><a name=\"Exploracion\"></a><strong>2. ¿Cómo saber si se tiene un buen comienzo y cómo ejecutar la exploración?</strong></h2>\n",
    "<p>Sabiendo ya la forma que tiene nuestra galaxia y cómo funciona, podremos ubicarnos en ésta y plantear ya nuestra estrategia para comenzar con nuestra expansión por el espacio.</p>\n",
    "<p>Sólo hay una variable que hace que a la hora de tomar ciertas decisiones hagamos una cosa u otra. Así es, hablamos del <strong>comienzo</strong>.</p>\n",
    "<p>Que hayamos empezado de <em>x</em> manera en la galaxia repercute en nuestra manera de explorar y reunir información suficiente para conquistar o no ciertos sistemas y así extender nuestros dominios de la <strong>manera más eficiente</strong>. Una mala decisión puede acabar en una posible caída de nuestro imperio por posición estratégica.</p>\n",
    "<p></p>\n",
    "<p>Para empezar debemos ver qué sistemas de la galaxia nos permite aislar otros sistemas si son tomadas. Para ello la función <em>puntos_de-corte_y_aislamiento()</em> nos dirá cuáles son esos sistemas que aislan otros sistemas si son conquistadas y cuáles son aquellos sistemas que se aislan:</p>"
   ]
  },
  {
   "cell_type": "code",
   "execution_count": 22,
   "metadata": {},
   "outputs": [],
   "source": [
    "def puntos_de_corte_y_aislamiento(grafo: nx.Graph):\n",
    "    dicc = dict()\n",
    "    for i in list(nx.articulation_points(grafo)):\n",
    "        grafoaux = grafo.copy()\n",
    "        grafoaux.remove_node(i)\n",
    "        dicc[i] = sorted(nx.connected_components(grafoaux), key=len, reverse=True)[1:]\n",
    "    for i in dicc:\n",
    "        dicc[i] = [elemento for sublista in dicc[i] for elemento in sublista]\n",
    "    return dicc"
   ]
  },
  {
   "cell_type": "markdown",
   "metadata": {},
   "source": [
    "<p>- Test de <em>puntos_de_corte_y_aislamiento()</em>:</p>"
   ]
  },
  {
   "cell_type": "code",
   "execution_count": 23,
   "metadata": {
    "scrolled": true
   },
   "outputs": [
    {
     "name": "stdout",
     "output_type": "stream",
     "text": [
      "Mostrando los tres primeros sistemas de corte:\n",
      "5:  [223]\n",
      "12: [168, 75, 19]\n",
      "20: [242, 156]\n",
      "...\n",
      "Mostrando los tres últimos sistemas de corte:\n",
      "361:[165, 71, 297, 28, 210, 152, 276, 63, 184, 25, 188, 189, 95]\n",
      "362:[276, 152, 25, 154, 28, 165, 295, 297, 308, 184, 57, 188, 189, 63, 71, 210, 339, 95, 361, 106, 123]\n",
      "394:[289]\n"
     ]
    }
   ],
   "source": [
    "puntos_corte_g = puntos_de_corte_y_aislamiento(mapa_completo)\n",
    "print('Mostrando los tres primeros sistemas de corte:')\n",
    "for r in sorted(puntos_corte_g)[:3]:\n",
    "    print(str(r) +  \":\" + ((3-len(str(r)))*\" \") +str(puntos_corte_g[r]))\n",
    "print(\"...\")\n",
    "print('Mostrando los tres últimos sistemas de corte:')\n",
    "for r in sorted(puntos_corte_g)[-3:]:\n",
    "    print(str(r) +  \":\" + ((3-len(str(r)))*\" \") +str(puntos_corte_g[r]))"
   ]
  },
  {
   "cell_type": "markdown",
   "metadata": {},
   "source": [
    "<p>Teniendo ya los sistemas de corte disponibles, sólo necesitaremos aquellos que sean <strong>maximales</strong>, es decir, aquellos puntos de corte que no pueden ser separados del grafo principal mediante otro punto de corte con el fin de evitar la saturación del mapa de puntos de cortes rebundantes.</p>"
   ]
  },
  {
   "cell_type": "code",
   "execution_count": 24,
   "metadata": {},
   "outputs": [],
   "source": [
    "def elimina_redundancias(dicc: dict):\n",
    "    diccaux = dicc.copy()\n",
    "    conjunto_aislante={r[0] for r in diccaux.items()}\n",
    "    conjunto_aislado={j for i in diccaux.items() for j in i[1]}\n",
    "    for r in dicc:\n",
    "        if r not in conjunto_aislante.difference(conjunto_aislado):\n",
    "            diccaux.pop(r)\n",
    "    return diccaux"
   ]
  },
  {
   "cell_type": "markdown",
   "metadata": {},
   "source": [
    "<p>- Test de <em>elimina_rebundancias()</em>:</p>"
   ]
  },
  {
   "cell_type": "code",
   "execution_count": 25,
   "metadata": {
    "scrolled": false
   },
   "outputs": [
    {
     "name": "stdout",
     "output_type": "stream",
     "text": [
      "Mostrando los tres primeros sistemas de corte maximales:\n",
      "5:   [223]\n",
      "20:  [242, 156]\n",
      "36:  [150]\n",
      "...\n",
      "Mostrando los tres últimos sistemas de corte maximales:\n",
      "347: [353, 322]\n",
      "362: [276, 152, 25, 154, 28, 165, 295, 297, 308, 184, 57, 188, 189, 63, 71, 210, 339, 95, 361, 106, 123]\n",
      "394: [289]\n"
     ]
    }
   ],
   "source": [
    "puntos_corte_maximales_g = elimina_redundancias(puntos_corte_g)\n",
    "print('Mostrando los tres primeros sistemas de corte maximales:')\n",
    "for r in sorted(puntos_corte_maximales_g)[:3]:\n",
    "    print(str(r) + \": \" + ((3-len(str(r)))*\" \") + str(puntos_corte_maximales_g[r]))\n",
    "print(\"...\")\n",
    "print('Mostrando los tres últimos sistemas de corte maximales:')\n",
    "for r in sorted(puntos_corte_maximales_g)[-3:]:\n",
    "    print(str(r) + \": \" + ((3-len(str(r)))*\" \") + str(puntos_corte_maximales_g[r]))"
   ]
  },
  {
   "cell_type": "markdown",
   "metadata": {},
   "source": [
    "<p>Una vez que tengamos los sistemas de corte maximales determinados, debemos de saber cuál es la distancia a la que debemos aspirar recorrer a lo largo de la galaxia en base al número de países que se encuentran en la galaxia.</p>\n",
    "<p>Gracias a la función <em>topedist()</em> podremos saber cuál es esa <strong>distancia máxima</strong> que debemos aspirar a la hora de iniciar nuestra conquista.</p>\n",
    "<p>Una cosa a tener en consideración es que el parámetro <em>numParticipantes</em> se refiere al número de países que se encuentran en la galaxia. Esto es importante debido a que <em>Stellaris</em> es un juego de estrategia multijugador a tiempo real, es decir, que ciertos sistemas pueden ser controlados por dichos paises, paises que tratarán de evitar a toda costa la toma de dicho sistema si es importante.</p>"
   ]
  },
  {
   "cell_type": "code",
   "execution_count": 26,
   "metadata": {},
   "outputs": [],
   "source": [
    "def topedist(grafo: nx.Graph, numParticipantes: int):\n",
    "    lis = [w[2][\"weight\"] for w in grafo.edges(data=True)]\n",
    "    avglongitud = sum(lis)/len(lis)\n",
    "    pesototal = sum([w[2][\"weight\"] for w in grafo.edges(data=True)])\n",
    "    pesoporpart = 1.2*pesototal/numParticipantes\n",
    "    saltos = math.log(pesoporpart, ((grafo.number_of_edges()*2)/grafo.number_of_nodes()-1))\n",
    "    return saltos*avglongitud"
   ]
  },
  {
   "cell_type": "code",
   "execution_count": 27,
   "metadata": {
    "scrolled": true
   },
   "outputs": [
    {
     "name": "stdout",
     "output_type": "stream",
     "text": [
      "La distancia máxima a la que deberíamos aspirar es: 285.21651250106396\n"
     ]
    }
   ],
   "source": [
    "print(\"La distancia máxima a la que deberíamos aspirar es:\",topedist(mapa_completo, 10))"
   ]
  },
  {
   "cell_type": "markdown",
   "metadata": {},
   "source": [
    "<p>Ahora que hemos determinado la distancia máxima a la que es sensato aspirar, podemos determinar que tan bueno es nuestro origen según la distancia a los puntos de corte maximales:</p>"
   ]
  },
  {
   "cell_type": "code",
   "execution_count": 28,
   "metadata": {},
   "outputs": [],
   "source": [
    "def rankea(grafo: nx.Graph, dicc_corte: dict, numpart: int):\n",
    "    ranking = dict()\n",
    "    toped = topedist(grafo, numpart)\n",
    "    for i in grafo.nodes():\n",
    "        punt=0\n",
    "        for j in dicc_corte:\n",
    "            dist = nx.shortest_path_length(grafo, i, j, weight=\"weight\")\n",
    "            if dist<toped:\n",
    "                punt+=(len(dicc_corte[j])*(toped-dist)/toped)\n",
    "        ranking[i] = punt\n",
    "    return ranking"
   ]
  },
  {
   "cell_type": "markdown",
   "metadata": {},
   "source": [
    "<p>- Test de <em>rankea()</em>:</p>"
   ]
  },
  {
   "cell_type": "code",
   "execution_count": null,
   "metadata": {},
   "outputs": [],
   "source": [
    "ranking = rankea(mapa_completo, puntos_corte_maximales_g, 10)\n",
    "maximo = max([ranking[an] for an in ranking])\n",
    "rankingordenado = [(r[0], 10*r[1]/maximo) for r in sorted(ranking.items(),key=lambda a:a[1], reverse=True)]"
   ]
  },
  {
   "cell_type": "code",
   "execution_count": null,
   "metadata": {},
   "outputs": [],
   "source": [
    "print(\"Imprimiento los diez mejores sistemas:\")\n",
    "for r in range(10):\n",
    "    print(rankingordenado[r])"
   ]
  },
  {
   "cell_type": "code",
   "execution_count": null,
   "metadata": {
    "scrolled": true
   },
   "outputs": [],
   "source": [
    "print(\"Imprimiento los diez peores sistemas:\")\n",
    "for r in range(10):\n",
    "    print(rankingordenado[-(r+1)])"
   ]
  },
  {
   "cell_type": "markdown",
   "metadata": {},
   "source": [
    "<p>Para mayor claridad representaremos el grafo, dándole color y tamaño a los nodos según su puntuación:</p>"
   ]
  },
  {
   "cell_type": "code",
   "execution_count": null,
   "metadata": {
    "scrolled": false
   },
   "outputs": [],
   "source": [
    "nodo_posiciones = {nodo: (mapa_completo.nodes[nodo]['x'], mapa_completo.nodes[nodo]['y']) for nodo in mapa_completo.nodes}\n",
    "nodo_colores = [\n",
    "    (2 * (1 - (ranking[r] / maximo)), 0.9, 0.15) \n",
    "    if ranking[r]/maximo > 0.5 \n",
    "    else (0.9, 2 * (ranking[r] / maximo), 0.15) for r in ranking]\n",
    "nodo_tamano = [30*(8+r[1]) for r in ranking.items()]\n",
    "plt.figure(figsize=(13.4,13.4))\n",
    "nx.draw(mapa_completo,with_labels=True, pos=nodo_posiciones, font_size=10, node_color=nodo_colores, node_size=nodo_tamano)"
   ]
  },
  {
   "cell_type": "markdown",
   "metadata": {},
   "source": [
    "<p><strong><em>¿Quieres mejorar el algoritmo?</em></strong></p>\n",
    "<p>Prueba a hacer que tenga en cuenta conjuntos de corte que desconecten el grafo, deberás tener en cuenta cuantos puntos son necesarios para desconectar el grafo, así como la distancia entre ellos, un posible comienzo sería:</p>"
   ]
  },
  {
   "cell_type": "markdown",
   "metadata": {},
   "source": [
    "<em>\n",
    "(Tamaño del sector aislado * (distancia maxima - ruta mas corta que atraviese el conjunto de corte)) /(tamaño del conjunto de corte * distancia maxima)\n",
    "</em>"
   ]
  },
  {
   "cell_type": "code",
   "execution_count": null,
   "metadata": {},
   "outputs": [],
   "source": []
  },
  {
   "cell_type": "code",
   "execution_count": null,
   "metadata": {},
   "outputs": [],
   "source": []
  },
  {
   "cell_type": "markdown",
   "metadata": {},
   "source": [
    "<p>Ahora que ya sabemos que tan bueno o malo es nuestro origen debemos determinar por dónde ha de empezar nuestra <strong>expansión galactica</strong>, obtendremos en primer lugar las rutas a los puntos de interés:</p>"
   ]
  },
  {
   "cell_type": "code",
   "execution_count": null,
   "metadata": {},
   "outputs": [],
   "source": [
    "def destinos_posibles(grafo: nx.Graph, puntoinicio: int,participantes: int):\n",
    "    grafoaux = grafo.copy()\n",
    "    distancias, caminos = nx.single_source_dijkstra(grafoaux, puntoinicio)\n",
    "    limite = topedist(grafo, participantes)\n",
    "    destinos = puntos_de_corte_y_aislamiento(grafo)\n",
    "    for r in distancias:\n",
    "        if(distancias[r]>limite):\n",
    "            grafoaux.remove_node(r)\n",
    "        if (r not in destinos or distancias[r]>limite):\n",
    "            caminos.pop(r)\n",
    "    \n",
    "    return grafoaux, caminos"
   ]
  },
  {
   "cell_type": "code",
   "execution_count": null,
   "metadata": {},
   "outputs": [],
   "source": [
    "origen = 130"
   ]
  },
  {
   "cell_type": "code",
   "execution_count": null,
   "metadata": {
    "scrolled": true
   },
   "outputs": [],
   "source": [
    "subg, caminos = destinos_posibles(mapa_completo, origen, 10)"
   ]
  },
  {
   "cell_type": "code",
   "execution_count": null,
   "metadata": {
    "scrolled": true
   },
   "outputs": [],
   "source": [
    "print(\"Todos los posibles puntos de interés para nuestro origen son: \", list(caminos.keys()))"
   ]
  },
  {
   "cell_type": "markdown",
   "metadata": {},
   "source": [
    "<p>Representamos las rutas a esos caminos en el mapa:</p>"
   ]
  },
  {
   "cell_type": "code",
   "execution_count": null,
   "metadata": {},
   "outputs": [],
   "source": [
    "conjunto = set()\n",
    "for r in caminos:\n",
    "    if caminos[r][-1] in caminos:\n",
    "        conjunto.update([(caminos[r][k], caminos[r][k+1]) for k in range(len(caminos[r])-1)])\n",
    "nodo_colores = [\n",
    "    \"#DF954B\" if (r in puntos_corte_g and r in subg.nodes())\n",
    "    else \"red\" if r == 130 \n",
    "    else \"#9AB5C6\" if r in subg.nodes() \n",
    "    else \"#F0F0F0\" for r in mapa_completo.nodes()]\n",
    "arista_colores = [\n",
    "    \"#DF954B\" if ((r[0],r[1]) in conjunto or (r[1],r[0]) in conjunto) \n",
    "    else \"#9AB5C6\" if r in subg.edges() \n",
    "    else  \"#F0F0F0\" for r in mapa_completo.edges()]\n",
    "arista_tamano = [\n",
    "    6 if ((r[0],r[1]) in conjunto or (r[1],r[0]) in conjunto) \n",
    "    else 3 if r in subg.edges() \n",
    "    else 1 for r in mapa_completo.edges()]\n",
    "nodo_etiquetas={r: r if r in subg.nodes() else \"\" for r in mapa_completo.nodes()}\n",
    "nodo_tamano = [\n",
    "    500 if r in subg.nodes() and r in puntos_corte_g \n",
    "    else 300 if r in subg.nodes()\n",
    "    else 70 for r in mapa_completo.nodes()]\n",
    "plt.figure(figsize=(13.4,13.4))\n",
    "nx.draw(\n",
    "    mapa_completo, \n",
    "    node_size=nodo_tamano, \n",
    "    labels=nodo_etiquetas, \n",
    "    pos=nodo_posiciones, \n",
    "    node_color=nodo_colores, \n",
    "    edge_color=arista_colores, \n",
    "    width=arista_tamano\n",
    ")"
   ]
  },
  {
   "cell_type": "markdown",
   "metadata": {},
   "source": [
    "<p>Es tiempo ahora de determinar los puntos de máximo interés, pues como podemos ver en la representación hay puntos que no son relevantes en comparación a otros. Tenemos que saber también <strong>cómo expandirnos</strong> considerando que no es necesario ocupar todos los sistemas que hay presentes, con sólo los maximales de corte nos vale.</p>"
   ]
  },
  {
   "cell_type": "code",
   "execution_count": null,
   "metadata": {},
   "outputs": [],
   "source": [
    "def explora(grafo: nx.Graph, dicc_corte: dict, numpart: int, origen:int):\n",
    "    toped = topedist(grafo, numpart)\n",
    "    pesos, caminos = nx.single_source_dijkstra(grafo,origen)\n",
    "    pesos = {r: pesos[r] for r in pesos if r in dicc_corte and r != origen}\n",
    "    caminos = {r: caminos[r] for r in caminos if r in dicc_corte and r != origen}\n",
    "    puntuacion_dict = dict()\n",
    "    caminos_finales=dict()\n",
    "    for i in pesos:\n",
    "        if pesos[i]<toped:\n",
    "            puntuacion_dict[i] = (len(dicc_corte[i])*(toped-pesos[i])/toped)\n",
    "            caminos_finales[i]=caminos[i]\n",
    "    for i in caminos:\n",
    "        for j in caminos[i]:\n",
    "            if i in puntuacion_dict and j in puntuacion_dict and puntuacion_dict[i]<puntuacion_dict[j] and i in dicc_corte[j]:\n",
    "                puntuacion_dict.pop(i)\n",
    "                caminos_finales.pop(i)\n",
    "    return puntuacion_dict, caminos_finales"
   ]
  },
  {
   "cell_type": "code",
   "execution_count": null,
   "metadata": {
    "scrolled": true
   },
   "outputs": [],
   "source": [
    "mejores_destinos, caminos_finales = explora(mapa_completo,puntos_corte_g , 10, origen)\n",
    "print(f\"El mejor destino es el {max(mejores_destinos.items(), key=lambda a:a[1])[0]}, con una puntuacion de {max(mejores_destinos.items(), key=lambda a:a[1])[1]}\")"
   ]
  },
  {
   "cell_type": "markdown",
   "metadata": {},
   "source": [
    "<p>Gracias a la función <em>explora()</em> hemos podido evaluar el destino que deberíamos priorizar en nuestra exploración.</p>"
   ]
  },
  {
   "cell_type": "code",
   "execution_count": null,
   "metadata": {},
   "outputs": [],
   "source": [
    "conjunto = set()\n",
    "for r in caminos_finales:\n",
    "    if caminos[r][-1] in caminos_finales:\n",
    "        conjunto.update([(caminos_finales[r][k], caminos_finales[r][k+1]) for k in range(len(caminos[r])-1)])\n",
    "nodo_colores = [\n",
    "    \"#DF954B\" if (r in mejores_destinos and r in subg.nodes())\n",
    "    else \"red\" if r == 130 \n",
    "    else \"#9AB5C6\" if r in subg.nodes() \n",
    "    else \"#F0F0F0\" for r in mapa_completo.nodes()]\n",
    "arista_colores = [\n",
    "    \"#DF954B\" if ((r[0],r[1]) in conjunto or (r[1],r[0]) in conjunto) \n",
    "    else \"#9AB5C6\" if r in subg.edges() \n",
    "    else  \"#F0F0F0\" for r in mapa_completo.edges()]\n",
    "arista_tamano = [\n",
    "    6 if ((r[0],r[1]) in conjunto or (r[1],r[0]) in conjunto) \n",
    "    else 3 if r in subg.edges() \n",
    "    else 1 for r in mapa_completo.edges()]\n",
    "nodo_etiquetas={r: r if r in subg.nodes() else \"\" for r in mapa_completo.nodes()}\n",
    "nodo_tamano = [\n",
    "    500 if r in subg.nodes() and r in puntos_corte_g \n",
    "    else 300 if r in subg.nodes()\n",
    "    else 70 for r in mapa_completo.nodes()]\n",
    "plt.figure(figsize=(13.4,13.4))\n",
    "nx.draw(\n",
    "    mapa_completo, \n",
    "    node_size=nodo_tamano, \n",
    "    labels=nodo_etiquetas, \n",
    "    pos=nodo_posiciones, \n",
    "    node_color=nodo_colores, \n",
    "    edge_color=arista_colores, \n",
    "    width=arista_tamano\n",
    ")"
   ]
  },
  {
   "cell_type": "markdown",
   "metadata": {},
   "source": [
    "<p>De los posibles destinos a los que podemos viajar, tenemos que ver la ruta que pasa por la máxima cantidad de sistemas de interés sin desviarse demasiado.</p>"
   ]
  },
  {
   "cell_type": "code",
   "execution_count": null,
   "metadata": {},
   "outputs": [],
   "source": [
    "def traductor_de_rutas(grafo: nx.Graph, caminos: dict):\n",
    "    diccaux=dict()\n",
    "    for r in caminos:\n",
    "        diccaux[r] = [(caminos[r][k], caminos[r][k+1]) for k in range(len(caminos[r])-1)]\n",
    "    return diccaux"
   ]
  },
  {
   "cell_type": "code",
   "execution_count": null,
   "metadata": {},
   "outputs": [],
   "source": [
    "rutas_finales_aristas = traductor_de_rutas(mapa_completo, caminos_finales)\n",
    "print(rutas_finales_aristas)"
   ]
  },
  {
   "cell_type": "markdown",
   "metadata": {},
   "source": [
    "<p>Podemos observar que la función <em>mejores_rutas()</em> nos devuelve un diccionario cuyas claves son los sistemas de interés y los valores son la lista de aristas que se tienen que cruzar para llegar a éstos sistemas.</p>\n",
    "<p>Teniendo en cuenta el diccionario que nos devuelve la función, podemos generar posibles combinaciones de las rutas que debemos tomar para ocupar los <strong>sistemas de interés</strong>. Gracias a la siguiente sucesión de funciones, podemos crear dichas combinaciones y añadirlas en una lista.</p>"
   ]
  },
  {
   "cell_type": "code",
   "execution_count": null,
   "metadata": {},
   "outputs": [],
   "source": [
    "def generar_combinaciones(lista):\n",
    "    result = []\n",
    "\n",
    "    for i in range(1, len(lista) + 1):\n",
    "        combinaciones_i = get_combinaciones(lista, i)\n",
    "        result.extend(combinaciones_i)\n",
    "\n",
    "    return result\n",
    "\n",
    "def get_combinaciones(lista, longitud):\n",
    "    result = []\n",
    "    combinacion_actual = [0] * longitud\n",
    "\n",
    "    generar_combinaciones_util(lista, result, combinacion_actual, 0, len(lista) - 1, 0, longitud)\n",
    "\n",
    "    return result\n",
    "\n",
    "def generar_combinaciones_util(lista, result, combinacion_actual, inicio, fin, indice_actual, longitud):\n",
    "    if indice_actual == longitud:\n",
    "        result.append(combinacion_actual.copy())\n",
    "        return\n",
    "\n",
    "    i = inicio\n",
    "    while i <= fin and fin - i + 1 >= longitud - indice_actual:\n",
    "        combinacion_actual[indice_actual] = lista[i]\n",
    "        generar_combinaciones_util(lista, result, combinacion_actual, i + 1, fin, indice_actual + 1, longitud)\n",
    "        i += 1"
   ]
  },
  {
   "cell_type": "code",
   "execution_count": null,
   "metadata": {},
   "outputs": [],
   "source": [
    "resultados = generar_combinaciones(list(rutas_finales_aristas.keys()))\n",
    "print(resultados)"
   ]
  },
  {
   "cell_type": "markdown",
   "metadata": {},
   "source": [
    "<p>Teniendo la lista de todas las rutas posibles para realizar, calcularemos el peso de estas rutas:</p>"
   ]
  },
  {
   "cell_type": "code",
   "execution_count": null,
   "metadata": {},
   "outputs": [],
   "source": [
    "def peso_desde_ruta(grafo: nx.Graph, ruta: list):\n",
    "    return sum([grafo.edges()[r][\"weight\"] for r in ruta])\n",
    "peso_desde_ruta(mapa_completo,rutas_finales_aristas[112])"
   ]
  },
  {
   "cell_type": "markdown",
   "metadata": {},
   "source": [
    "<p>Ahora podemos ver cuáles son las rutas que comparten la gran mayoría de sus <strong>elementos</strong> (en este caso los sistemas) para filtrar la lista previa de las rutas, dejando sólo las rutas con mayor interés.</p>"
   ]
  },
  {
   "cell_type": "code",
   "execution_count": null,
   "metadata": {},
   "outputs": [],
   "source": [
    "#Ahora vemos cuales rutas comparten la mayoria de sus elementos\n",
    "def ruta_maximal(grafo: nx.Graph, lista_combinaciones: list,rutas: dict):\n",
    "    dicc_pesos= dict()\n",
    "    for i in lista_combinaciones:\n",
    "        for j in i:\n",
    "            dicc_pesos[j] = peso_desde_ruta(grafo, rutas[j])\n",
    "    combinaciones_interesantes= dict()\n",
    "    for i in lista_combinaciones:\n",
    "        elemento_maximo, ruta_maxima, peso_maximo = max([ (r,rutas[r], peso_desde_ruta(grafo, rutas[r])) for r in i], key=lambda a:a[1])\n",
    "        flag_es_almacenado=True\n",
    "        for j in i:\n",
    "            if j!=elemento_maximo:\n",
    "                conjunto_caminos=set()\n",
    "                conjunto_caminos.update(ruta_maxima)\n",
    "                conjunto_caminos.update(rutas[j])\n",
    "                if peso_desde_ruta(grafo, conjunto_caminos)-peso_maximo>(peso_desde_ruta(grafo,rutas[j])/2):\n",
    "                    flag_es_almacenado=False\n",
    "        if(flag_es_almacenado):\n",
    "            conjunto_caminos=set()\n",
    "            for j in i:\n",
    "                conjunto_caminos.update(rutas[j])    \n",
    "            combinaciones_interesantes[tuple(i)]=conjunto_caminos\n",
    "\n",
    "    return(combinaciones_interesantes)"
   ]
  },
  {
   "cell_type": "code",
   "execution_count": null,
   "metadata": {},
   "outputs": [],
   "source": [
    "rutas_maximales=ruta_maximal(subg, resultados, rutas_finales_aristas)\n",
    "for r in rutas_maximales:\n",
    "    print(str(r) + \":\",rutas_maximales[r])"
   ]
  },
  {
   "cell_type": "markdown",
   "metadata": {},
   "source": [
    "<p>Ahora que tenemos todas las rutas interesantes tenemos que ver cuál es la mejor de todas, y simplemente sumaremos la puntuación que otorgan a nuestro sistema inicial.</p>"
   ]
  },
  {
   "cell_type": "code",
   "execution_count": null,
   "metadata": {},
   "outputs": [],
   "source": [
    "rutas_y_pesos = list()\n",
    "for i in rutas_maximales.keys():\n",
    "    lista=list()\n",
    "    for j in i:\n",
    "        lista.append(mejores_destinos[j])\n",
    "    rutas_y_pesos.append((i, tuple(lista)))\n",
    "ruta_maxima = max(rutas_y_pesos, key=lambda a:sum(a[1]))[0]\n",
    "print(f\"La mejor ruta pasa por los puntos: {ruta_maxima}, y tiene un peso de {sum([mejores_destinos[r] for r in ruta_maxima])}\")    "
   ]
  },
  {
   "cell_type": "code",
   "execution_count": null,
   "metadata": {},
   "outputs": [],
   "source": [
    "conjunto = set()\n",
    "for r in mejores_destinos:\n",
    "    if caminos[r][-1] in mejores_destinos:\n",
    "        conjunto.update([(caminos[r][k], caminos[r][k+1]) for k in range(len(caminos[r])-1)])\n",
    "nodo_colores = [\n",
    "    \"#DF954B\" if (r in mejores_destinos and r in subg.nodes())\n",
    "    else \"red\" if r == 130 \n",
    "    else \"#9AB5C6\" if r in subg.nodes() \n",
    "    else \"#F0F0F0\" for r in mapa_completo.nodes()]\n",
    "arista_colores = [\n",
    "    \"#DF954B\" if ((r[0],r[1]) in rutas_maximales[ruta_maxima] or (r[1],r[0]) in rutas_maximales[ruta_maxima]) \n",
    "    else \"#9AB5C6\" if r in subg.edges() \n",
    "    else  \"#F0F0F0\" for r in mapa_completo.edges()]\n",
    "arista_tamano = [\n",
    "    6 if ((r[0],r[1]) in rutas_maximales[ruta_maxima] or (r[1],r[0]) in rutas_maximales[ruta_maxima]) \n",
    "    else 3 if r in subg.edges() \n",
    "    else 1 for r in mapa_completo.edges()]\n",
    "nodo_etiquetas={r: r if r in subg.nodes() else \"\" for r in mapa_completo.nodes()}\n",
    "nodo_tamano = [\n",
    "    500 if r in subg.nodes() and r in rutas_maximales[ruta_maxima] \n",
    "    else 300 if r in subg.nodes()\n",
    "    else 70 for r in mapa_completo.nodes()]\n",
    "plt.figure(figsize=(13.4,13.4))\n",
    "nx.draw(mapa_completo, \n",
    "        node_size=nodo_tamano, \n",
    "        labels=nodo_etiquetas, \n",
    "        pos=nodo_posiciones, \n",
    "        node_color=nodo_colores, \n",
    "        edge_color=arista_colores, \n",
    "        width=arista_tamano\n",
    ")"
   ]
  },
  {
   "cell_type": "markdown",
   "metadata": {},
   "source": [
    "### Propuesta\n",
    "<p>Aplica el tsp del ej 5 a las combinaciones de rutas encontradas previamente.</p>\n",
    "<p>Basta con coger todas las combinaciones de los elementos, dar la ruta que los recorre todos, y eliminar la arista más larga que vaya a el punto origen, esto serviría para calcular de una forma exacta el peso de nuestra nueva ruta, lo que nos permitiría evaluar de forma más eficiente.</p>"
   ]
  },
  {
   "cell_type": "code",
   "execution_count": null,
   "metadata": {},
   "outputs": [],
   "source": []
  },
  {
   "cell_type": "code",
   "execution_count": null,
   "metadata": {},
   "outputs": [],
   "source": []
  },
  {
   "cell_type": "code",
   "execution_count": null,
   "metadata": {},
   "outputs": [],
   "source": []
  }
 ],
 "metadata": {
  "kernelspec": {
   "display_name": "SageMath 9.3",
   "language": "sage",
   "name": "sagemath"
  },
  "language_info": {
   "codemirror_mode": {
    "name": "ipython",
    "version": 3
   },
   "file_extension": ".py",
   "mimetype": "text/x-python",
   "name": "python",
   "nbconvert_exporter": "python",
   "pygments_lexer": "ipython3",
   "version": "3.7.10"
  }
 },
 "nbformat": 4,
 "nbformat_minor": 4
}
