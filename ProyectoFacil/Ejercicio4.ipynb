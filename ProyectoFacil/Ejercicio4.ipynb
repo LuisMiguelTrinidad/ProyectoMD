{
 "cells": [
  {
   "cell_type": "markdown",
   "metadata": {},
   "source": [
    "<h2>PARTE EN SUCIO</h2>"
   ]
  },
  {
   "cell_type": "code",
   "execution_count": 1,
   "metadata": {},
   "outputs": [],
   "source": [
    "import networkx as nx\n",
    "import matplotlib.pyplot as plt\n",
    "import json\n",
    "import math\n",
    "import random\n",
    "from itertools import tee"
   ]
  },
  {
   "cell_type": "code",
   "execution_count": 2,
   "metadata": {},
   "outputs": [],
   "source": [
    "def lectura(ruta_archivo: str):\n",
    "    try:\n",
    "        # Leer el contenido del archivo JSON\n",
    "        with open(ruta_archivo, 'r', encoding='utf-8') as archivo:\n",
    "            datos_json = json.load(archivo)\n",
    "\n",
    "        # Acceder a todas las entradas de \"galactic_object\"\n",
    "        objetos_galacticos = datos_json.get(\"galactic_object\", {})\n",
    "\n",
    "        if objetos_galacticos:\n",
    "            map = {}\n",
    "\n",
    "            # Iterar a través de todas las entradas de \"galactic_object\"\n",
    "            for id_objeto, objeto_galactico in objetos_galacticos.items():\n",
    "                # Acceder e imprimir o utilizar propiedades específicas de cada \"galactic_object\"\n",
    "                coordenada = objeto_galactico[\"coordinate\"]\n",
    "                nombre = objeto_galactico[\"name\"][\"key\"]\n",
    "                hyperlane = objeto_galactico.get(\"hyperlane\",[])\n",
    "\n",
    "                # Verificar si la longitud de hyperlane es mayor que 0, para eliminar vértices anormales\n",
    "                if len(hyperlane) > 0:\n",
    "                    # Guardar la información necesaria en el diccionario\n",
    "                    map[int(id_objeto)] = [nombre, [(i[\"to\"], i[\"length\"]) for i in hyperlane], (coordenada[\"x\"], coordenada[\"y\"])]\n",
    "            return map\n",
    "        else:\n",
    "            raise ValueError(\"La clave 'galactic_object' no existe en los datos JSON.\") \n",
    "    \n",
    "    except Exception as e:\n",
    "        print(f\"Error al leer o analizar el archivo JSON: {e}\")\n",
    "\n"
   ]
  },
  {
   "cell_type": "code",
   "execution_count": 3,
   "metadata": {},
   "outputs": [],
   "source": [
    "partida = lectura('../output/output1.json')"
   ]
  },
  {
   "cell_type": "code",
   "execution_count": 4,
   "metadata": {},
   "outputs": [],
   "source": [
    "def test_lectura(diccionario):\n",
    "    # Imprimir los 3 primeros elementos\n",
    "    print('Mostrando los tres primeros sistemas de la galaxia:')\n",
    "    for r in list(diccionario.items())[:3]:\n",
    "        print(r[0], \": \", r[1])\n",
    "    # Imprimir puntos suspensivos\n",
    "    print(\"...\")\n",
    "    # Imprimir los 3 últimos elementos\n",
    "    print('Mostrando los tres últimos sistemas de la galaxia:')\n",
    "    for r in list(diccionario.items())[-3:]:\n",
    "        print(r[0], \": \", r[1])"
   ]
  },
  {
   "cell_type": "code",
   "execution_count": 5,
   "metadata": {},
   "outputs": [],
   "source": [
    "def genera_grafo(diccionario) -> nx.Graph:\n",
    "    diccionarioaux = diccionario.copy()\n",
    "    diccionarioaux = {clave: diccionarioaux[clave][1] for clave in diccionarioaux}\n",
    "    grafo = nx.Graph()\n",
    "    for r in diccionarioaux:\n",
    "        if len(diccionarioaux[r])>0:\n",
    "            grafo.add_edges_from((r, k[0]) for k in diccionarioaux[r])\n",
    "    componentes_conexas = list(nx.connected_components(grafo))\n",
    "\n",
    "    # Encontrar la componente conexa más grande\n",
    "    tamanos_componentes = [len(componente) for componente in componentes_conexas]\n",
    "    indice_componente_a_conservar = tamanos_componentes.index(max(tamanos_componentes))\n",
    "    componente_a_conservar = list(componentes_conexas[indice_componente_a_conservar])\n",
    "\n",
    "    # Crear un nuevo grafo con solo la componente conexa más grande\n",
    "    G_componente_grande = grafo.subgraph(componente_a_conservar).copy()\n",
    "    for r in diccionario.copy():\n",
    "        if r not in G_componente_grande:\n",
    "            diccionario.pop(r)\n",
    "    return G_componente_grande"
   ]
  },
  {
   "cell_type": "code",
   "execution_count": 6,
   "metadata": {},
   "outputs": [],
   "source": [
    "mapa = genera_grafo(partida)"
   ]
  },
  {
   "cell_type": "code",
   "execution_count": 7,
   "metadata": {},
   "outputs": [],
   "source": [
    "def test_genera_grafo(diccionario) -> None:\n",
    "    grafoaux = genera_grafo(diccionario)\n",
    "    diccionarioaux = nx.to_dict_of_lists(grafoaux)\n",
    "    print('Mostrando las conexiones de los tres primeros sistemas de la galaxia:')\n",
    "    [print(r[0],\":\",r[1]) for r in sorted(diccionarioaux.items())[:3]]\n",
    "    print(\"...\")\n",
    "    print('Mostrando las conexiones de los tres últimos sistemas:')\n",
    "    [print(r[0],\":\",r[1]) for r in sorted(diccionarioaux.items())[-3:]]"
   ]
  },
  {
   "cell_type": "code",
   "execution_count": 8,
   "metadata": {},
   "outputs": [],
   "source": [
    "def adjudica_pesos(grafo, diccionario) -> nx.Graph:\n",
    "    diccionarioaux = diccionario.copy()\n",
    "    diccionarioaux = {clave: diccionarioaux[clave][1] for clave in diccionarioaux}\n",
    "    grafoaux = grafo.copy()\n",
    "    for origen in diccionarioaux:\n",
    "        for destino, peso in diccionarioaux[origen]:\n",
    "            grafoaux[origen][destino]['weight'] = peso\n",
    "        \n",
    "    return grafoaux"
   ]
  },
  {
   "cell_type": "code",
   "execution_count": 9,
   "metadata": {},
   "outputs": [],
   "source": [
    "pesos_mapa = adjudica_pesos(mapa, partida)"
   ]
  },
  {
   "cell_type": "code",
   "execution_count": 10,
   "metadata": {},
   "outputs": [],
   "source": [
    "def test_adjudica_pesos(grafo, diccionario) -> None:\n",
    "    grafoaux = adjudica_pesos(grafo, diccionario)\n",
    "    diccionarioaux = {u: [(v, data['weight']) for v, data in grafoaux[u].items()] for u in grafoaux.nodes()}\n",
    "    print('Distancias entre los primeros tres sistemas y sus conexiones:')\n",
    "    [print(r[0],\":\",r[1]) for r in sorted(diccionarioaux.items())[:3]]\n",
    "    print(\"...\")\n",
    "    print('Distancias entre los tres últimos sistemas y sus conexiones:')\n",
    "    [print(r[0],\":\",r[1]) for r in sorted(diccionarioaux.items())[-3:]]"
   ]
  },
  {
   "cell_type": "code",
   "execution_count": 11,
   "metadata": {},
   "outputs": [],
   "source": [
    "def adjudica_posiciones(grafo, diccionario) -> nx.Graph:\n",
    "    diccionarioaux = diccionario.copy()\n",
    "    diccionariox = {clave: diccionarioaux[clave][2][0] for clave in diccionarioaux}\n",
    "    diccionarioy = {clave: diccionarioaux[clave][2][1] for clave in diccionarioaux}\n",
    "    grafoaux = grafo.copy()\n",
    "    nx.set_node_attributes(grafoaux, diccionariox, 'x')\n",
    "    nx.set_node_attributes(grafoaux, diccionarioy, 'y')\n",
    "    return grafoaux"
   ]
  },
  {
   "cell_type": "code",
   "execution_count": 12,
   "metadata": {},
   "outputs": [],
   "source": [
    "posiciones_mapa = adjudica_posiciones(pesos_mapa, partida)"
   ]
  },
  {
   "cell_type": "code",
   "execution_count": 13,
   "metadata": {},
   "outputs": [],
   "source": [
    "def test_adjudica_posiciones(grafo, diccionario) -> None:\n",
    "    grafoaux = adjudica_posiciones(grafo, diccionario)\n",
    "    diccionarioaux = {u: (grafoaux.nodes[u]['x'], grafoaux.nodes[u]['y']) for u in grafoaux.nodes()}\n",
    "    print('Coordenadas de los tres primeros sistemas:')\n",
    "    [print(u, \":\", pos) for u, pos in sorted(diccionarioaux.items())[:3]]\n",
    "    print(\"...\")\n",
    "    print('Coordenadas de los tres últimos sistemas:')\n",
    "    [print(u, \":\", pos) for u, pos in sorted(diccionarioaux.items())[-3:]]"
   ]
  },
  {
   "cell_type": "code",
   "execution_count": 14,
   "metadata": {},
   "outputs": [],
   "source": [
    "def adjudica_etiquetas(grafo, diccionario) -> nx.Graph:\n",
    "    diccionarioaux = diccionario.copy()\n",
    "    diccionarioaux = {clave: diccionarioaux[clave][0] for clave in diccionarioaux}\n",
    "    grafoaux = grafo.copy()\n",
    "    nx.set_node_attributes(grafoaux, diccionarioaux, 'Label')\n",
    "    return grafoaux"
   ]
  },
  {
   "cell_type": "code",
   "execution_count": 15,
   "metadata": {},
   "outputs": [],
   "source": [
    "mapa_completo = adjudica_etiquetas(posiciones_mapa, partida)"
   ]
  },
  {
   "cell_type": "code",
   "execution_count": 16,
   "metadata": {},
   "outputs": [],
   "source": [
    "def test_adjudica_etiquetas(grafo, diccionario) -> None:\n",
    "    grafoaux = adjudica_etiquetas(grafo, diccionario)\n",
    "    diccionarioaux = {u: grafoaux.nodes[u]['Label'] for u in grafoaux.nodes()}\n",
    "    print('Etiquetas correspondientes a los tres primeros sistemas:')\n",
    "    [print(u, \":\", label) for u, label in sorted(diccionarioaux.items())[:3]]\n",
    "    print(\"...\")\n",
    "    print('Etiquetas correspondientes a los tres últimos sistemas:')\n",
    "    [print(u, \":\", label) for u, label in sorted(diccionarioaux.items())[-3:]]"
   ]
  },
  {
   "cell_type": "code",
   "execution_count": null,
   "metadata": {},
   "outputs": [],
   "source": []
  },
  {
   "cell_type": "markdown",
   "metadata": {},
   "source": [
    "---\n",
    "<h2><a name=\"Comercio\"></a><strong>4. Estudio del comercio</strong></h2>\n",
    "<p>Una vez instaurada nuestra capital, debemos de empezar a estudiar uno de los pilares fundamentales para la sostenibilidad de un imperio. Así es, hablamos del <strong>comercio</strong> que circula por el imperio. Un buen estudio no hará que caigamos en la <strong>ruina económica</strong>.</p>\n",
    "<p>A la hora de hacer un estudio del comercio, sacamos un árbol que represente nuestra región cuya raíz es la capital.</p>"
   ]
  },
  {
   "cell_type": "code",
   "execution_count": 17,
   "metadata": {},
   "outputs": [],
   "source": [
    "# Crear un grafo\n",
    "G = Graph()\n",
    "\n",
    "# Agregar vértices\n",
    "G.add_vertices(['A', 'B', 'C', 'D', 'E', 'F', 'G'])\n",
    "\n",
    "# Asignar pesos a los vértices\n",
    "G.set_vertices({'A': {'weight': 3}, 'B': {'weight': 5}, 'C': {'weight': 2}, 'D': {'weight': 5}, 'E': {'weight': 5}\n",
    "               , 'F': {'weight': 5}, 'G': {'weight': 5}})\n",
    "\n",
    "# Agregar aristas\n",
    "aristas=[('A','B',36),('A','C',12),('B','D',34),('C','E',45),('E','F',48),('E','G',18)]\n",
    "G.add_edges(aristas)"
   ]
  },
  {
   "cell_type": "markdown",
   "metadata": {},
   "source": [
    "<p>Cada sistema tiene un valor de comercio que podemos verlo de la siguiente manera:</p>"
   ]
  },
  {
   "cell_type": "code",
   "execution_count": 18,
   "metadata": {},
   "outputs": [
    {
     "name": "stdout",
     "output_type": "stream",
     "text": [
      "Peso del vértice A: 3\n",
      "Peso del vértice B: 5\n",
      "Peso del vértice C: 2\n"
     ]
    }
   ],
   "source": [
    "# Obtener el peso de un vértice específico\n",
    "peso_A = G.get_vertex('A')['weight']\n",
    "peso_B = G.get_vertex('B')['weight']\n",
    "peso_C = G.get_vertex('C')['weight']\n",
    "\n",
    "# Imprimir resultados\n",
    "print(\"Peso del vértice A:\", peso_A)\n",
    "print(\"Peso del vértice B:\", peso_B)\n",
    "print(\"Peso del vértice C:\", peso_C)"
   ]
  },
  {
   "cell_type": "markdown",
   "metadata": {},
   "source": [
    "<p>Incluso podemos ver las distancias que hay entre sistemas de la siguiente manera.</p>"
   ]
  },
  {
   "cell_type": "code",
   "execution_count": 19,
   "metadata": {},
   "outputs": [
    {
     "data": {
      "text/plain": [
       "[('A', 'B', 36), ('A', 'C', 12), ('B', 'D', 34), ('C', 'E', 45), ('E', 'F', 48), ('E', 'G', 18)]"
      ]
     },
     "execution_count": 19,
     "metadata": {},
     "output_type": "execute_result"
    }
   ],
   "source": [
    "G.edges()"
   ]
  },
  {
   "cell_type": "markdown",
   "metadata": {},
   "source": [
    "<p>La función <em>importancia()</em> nos devolverá un diccionario cuyas las claves son los sistemas y sus valores son su importancia en cada uno de ellos.</p>"
   ]
  },
  {
   "cell_type": "code",
   "execution_count": 20,
   "metadata": {},
   "outputs": [],
   "source": [
    "def importancia(capital, g, nodo=None):\n",
    "    \"\"\"\n",
    "    Calcula la importancia de cada vértice en un arbol.\n",
    "\n",
    "    Parameters:\n",
    "        - capital: El vértice desde el cual se calcula la importancia.\n",
    "        - g: El grafo ponderado.\n",
    "        - nodo: Opcional, si se especifica, devuelve la importancia solo para ese nodo.\n",
    "\n",
    "    Returns:\n",
    "        Un diccionario donde las claves son los vértices y los valores son las medidas de importancia.\n",
    "        Si se especifica el parámetro 'nodo', devuelve la importancia solo para ese nodo.\n",
    "    \"\"\"\n",
    "    # Inicializar el diccionario de importancia\n",
    "    importante={}\n",
    "    \n",
    "    # Verificar si el grafo es un árbol\n",
    "    if not g.is_tree():\n",
    "        raise ValueError(\"El grafo no es un arbol. Lo has copiado mal listillo. :)\")\n",
    "    elif not es_ponderado_por_vertices(g):\n",
    "        raise ValueError(\"El grafo no está ponderado por vertices. Lo has copiado mal listillo. :)\")\n",
    "    else:\n",
    "        \n",
    "        # Definir una función interna para calcular la importancia recursivamente\n",
    "        def calcular_importancia(v):\n",
    "            \"\"\"\n",
    "            Calcula la importancia de cada vértice en un árbol.\n",
    "\n",
    "            Parameters:\n",
    "                - v: El vértice actual para el cual se calcula la importancia.\n",
    "\n",
    "            Returns:\n",
    "                Un valor que representa la importancia del vértice actual en el árbol.\n",
    "            \"\"\"\n",
    "            # Calcular el peso y la distancia desde la capital hasta el vértice actual\n",
    "            peso = g.get_vertex(v)['weight']\n",
    "            distancia = g.shortest_path_length(capital, v, by_weight=True)\n",
    "            \n",
    "            # Calcular la importancia para el vértice actual\n",
    "            valor = peso / distancia\n",
    "            \n",
    "            # Sumar la importancia de los hijos y los hijos de los hijos\n",
    "            suma_hijos = sum(calcular_importancia(hijo) for hijo in children(g,v))\n",
    "            return valor + suma_hijos\n",
    "        \n",
    "        # Calcular la importancia final para cada vértice en el grafo\n",
    "        for v in g.vertices():\n",
    "            if not v == capital:\n",
    "                valor = calcular_importancia(v)\n",
    "                importante[v] = float(valor)\n",
    "        \n",
    "        if nodo==None:\n",
    "            return importante\n",
    "        else:\n",
    "            return importante[nodo]\n",
    "\n",
    "def children(t,c=None):\n",
    "    \"\"\"\n",
    "    Devuelve una lista que contiene los hijos del nodo dado perteneciente al árbol.\n",
    "\n",
    "    Parameters:\n",
    "        - t: El árbol.\n",
    "        - c: El nodo dado.\n",
    "\n",
    "    Returns:\n",
    "        Un diccionario donde las claves son los vértices y los valores la lista de hijos del nodo.\n",
    "    \"\"\"\n",
    "    dic = {}\n",
    "    lista_visitados = []\n",
    "\n",
    "    for v in t.vertices():\n",
    "        lista_hijos = []\n",
    "        lista_visitados.append(v)\n",
    "        for vecino in t.neighbors(v):\n",
    "            if vecino not in lista_visitados:\n",
    "                lista_hijos.append(vecino)\n",
    "        dic[v] = lista_hijos\n",
    "        \n",
    "    if c==None:\n",
    "        return dic\n",
    "    else:\n",
    "        return dic[c]\n",
    "\n",
    "def es_ponderado_por_vertices(grafo):\n",
    "    \"\"\"\n",
    "    Verifica si un grafo es ponderado por vertices.\n",
    "\n",
    "    Parameters:\n",
    "        - grafo: El grafo a verificar.\n",
    "\n",
    "    Returns:\n",
    "        True si todos los vertices tienen un peso, False de lo contrario.\n",
    "    \"\"\"\n",
    "    for v in grafo.vertices():\n",
    "        datos = grafo.get_vertex(v)\n",
    "        if not isinstance(datos, dict) or 'weight' not in datos:\n",
    "            return False\n",
    "    return True"
   ]
  },
  {
   "cell_type": "markdown",
   "metadata": {},
   "source": [
    "<p>El funcionamiento de la función consiste en la colocación de la raíz y luego el grafo, y en el caso de que se quiera conocer la importancia de sólo uno de los nodos, se ponde el nodo que quieras conocer. La raíz se excluirá porque siempre será la más importante.</p>"
   ]
  },
  {
   "cell_type": "code",
   "execution_count": 21,
   "metadata": {},
   "outputs": [
    {
     "name": "stdout",
     "output_type": "stream",
     "text": [
      "Las importancias de cada nodo del árbol: {'B': 0.21031746031746032, 'C': 0.368671679197995, 'D': 0.07142857142857142, 'E': 0.20200501253132833, 'F': 0.047619047619047616, 'G': 0.06666666666666667}\n",
      "La importancia del nodo D: 0.07142857142857142\n"
     ]
    }
   ],
   "source": [
    "dic =importancia('A',G)\n",
    "print('Las importancias de cada nodo del árbol:',dic)\n",
    "\n",
    "dic = importancia('A',G, 'D')\n",
    "print('La importancia del nodo D:',dic)"
   ]
  },
  {
   "cell_type": "markdown",
   "metadata": {},
   "source": [
    "### Ejercicio 3:\n",
    "<p>Utilizando los métodos y atributos disponibles, responder a las siguientes preguntas referentes al grafo G1 definido: ¿Es el grafo G1 un árbol? ¿Qué valores de comercio en cada sistema de G1? ¿Cuál es el sistema más importante después de la capital?</p>"
   ]
  },
  {
   "cell_type": "code",
   "execution_count": 22,
   "metadata": {},
   "outputs": [
    {
     "data": {
      "image/png": "[encoded data removed]",
      "text/plain": [
       "Graphics object consisting of 50 graphics primitives"
      ]
     },
     "execution_count": 22,
     "metadata": {},
     "output_type": "execute_result"
    }
   ],
   "source": [
    "G1 = Graph()\n",
    "G1.add_vertices(['A', 'B', 'C', 'D', 'E', 'F', 'G','H','I','J','K','L','M','N','O','P','Q'])\n",
    "G1.set_vertices({'A': {'weight': 5}, 'B': {'weight': 6.23445}, 'C': {'weight': 2.12355}, 'D': {'weight': 6}, 'E': {'weight': 0.2}\n",
    "               , 'F': {'weight': 9.8123}, 'G': {'weight': 4.12}, 'H': {'weight': 4.21}, 'I': {'weight': 7.2}, 'J': {'weight': 5}\n",
    "                , 'K': {'weight': 4.53}, 'L': {'weight': 3.234}, 'M': {'weight': 8}, 'N': {'weight': 5.65}, 'O': {'weight': 7.2}\n",
    "               , 'P': {'weight': 5.2345}, 'Q': {'weight': 8.234663}})\n",
    "aristas=[('A','B',36),('A','C',12),('A','D',34),('A','E',45),('B','F',48),('C','H',18),('C','I',12),('D','G',12),('E','J',12)\n",
    "        ,('E','K',12),('F','N',12),('H','O',12),('G','L',12),('G','M',12),('J','P',12),('K','Q',12)]\n",
    "G1.add_edges(aristas)\n",
    "G1.plot(layout='tree', edge_labels=True)"
   ]
  },
  {
   "cell_type": "code",
   "execution_count": null,
   "metadata": {},
   "outputs": [],
   "source": []
  },
  {
   "cell_type": "code",
   "execution_count": null,
   "metadata": {},
   "outputs": [],
   "source": []
  },
  {
   "cell_type": "code",
   "execution_count": null,
   "metadata": {},
   "outputs": [],
   "source": []
  },
  {
   "cell_type": "markdown",
   "metadata": {},
   "source": [
    "<p><strong>SOLUCIÓN</strong></p>\n",
    "<p>(Se puede borrar estos apartados después, es para mostrar la solución al problema)</p>"
   ]
  },
  {
   "cell_type": "code",
   "execution_count": 23,
   "metadata": {},
   "outputs": [
    {
     "data": {
      "text/plain": [
       "True"
      ]
     },
     "execution_count": 23,
     "metadata": {},
     "output_type": "execute_result"
    }
   ],
   "source": [
    "G1.is_tree()"
   ]
  },
  {
   "cell_type": "code",
   "execution_count": 24,
   "metadata": {},
   "outputs": [
    {
     "name": "stdout",
     "output_type": "stream",
     "text": [
      "Valor de comercio del vértice  A : 5\n",
      "Valor de comercio del vértice  B : 6.23445000000000\n",
      "Valor de comercio del vértice  C : 2.12355000000000\n",
      "Valor de comercio del vértice  D : 6\n",
      "Valor de comercio del vértice  E : 0.200000000000000\n",
      "Valor de comercio del vértice  F : 9.81230000000000\n",
      "Valor de comercio del vértice  G : 4.12000000000000\n",
      "Valor de comercio del vértice  H : 4.21000000000000\n",
      "Valor de comercio del vértice  I : 7.20000000000000\n",
      "Valor de comercio del vértice  J : 5\n",
      "Valor de comercio del vértice  K : 4.53000000000000\n",
      "Valor de comercio del vértice  L : 3.23400000000000\n",
      "Valor de comercio del vértice  M : 8\n",
      "Valor de comercio del vértice  N : 5.65000000000000\n",
      "Valor de comercio del vértice  O : 7.20000000000000\n",
      "Valor de comercio del vértice  P : 5.23450000000000\n",
      "Valor de comercio del vértice  Q : 8.23466300000000\n"
     ]
    }
   ],
   "source": [
    "for v in G1.vertices():\n",
    "    peso = G1.get_vertex(v)['weight']\n",
    "    print(\"Valor de comercio del vértice \",v,\":\", peso)"
   ]
  },
  {
   "cell_type": "code",
   "execution_count": 25,
   "metadata": {},
   "outputs": [
    {
     "name": "stdout",
     "output_type": "stream",
     "text": [
      "['C']\n"
     ]
    }
   ],
   "source": [
    "dic =importancia('A',G1)\n",
    "valor_max = max(dic.values())\n",
    "importantes = [clave for clave, valor in dic.items() if valor == valor_max]\n",
    "print(importantes)"
   ]
  },
  {
   "cell_type": "code",
   "execution_count": null,
   "metadata": {},
   "outputs": [],
   "source": []
  }
 ],
 "metadata": {
  "kernelspec": {
   "display_name": "SageMath 9.3",
   "language": "sage",
   "name": "sagemath"
  },
  "language_info": {
   "codemirror_mode": {
    "name": "ipython",
    "version": 3
   },
   "file_extension": ".py",
   "mimetype": "text/x-python",
   "name": "python",
   "nbconvert_exporter": "python",
   "pygments_lexer": "ipython3",
   "version": "3.7.10"
  }
 },
 "nbformat": 4,
 "nbformat_minor": 4
}
